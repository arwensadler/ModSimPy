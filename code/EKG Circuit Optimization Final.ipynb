{
 "cells": [
  {
   "cell_type": "markdown",
   "metadata": {},
   "source": [
    "# Optimizing EKG Circuit"
   ]
  },
  {
   "cell_type": "code",
   "execution_count": 1,
   "metadata": {},
   "outputs": [],
   "source": [
    "# Configure Jupyter so figures appear in the notebook\n",
    "%matplotlib inline\n",
    "\n",
    "# Configure Jupyter to display the assigned value after an assignment\n",
    "%config InteractiveShell.ast_node_interactivity='last_expr_or_assign'\n",
    "\n",
    "# import functions from the modsim.py module\n",
    "from modsim import *"
   ]
  },
  {
   "cell_type": "code",
   "execution_count": 2,
   "metadata": {},
   "outputs": [],
   "source": [
    "ohm = UNITS.ohm\n",
    "farad = UNITS.farad\n",
    "volt = UNITS.volt\n",
    "Hz = UNITS.Hz\n",
    "second = UNITS.second;"
   ]
  },
  {
   "cell_type": "code",
   "execution_count": 3,
   "metadata": {},
   "outputs": [
    {
     "data": {
      "text/html": [
       "<div>\n",
       "<style scoped>\n",
       "    .dataframe tbody tr th:only-of-type {\n",
       "        vertical-align: middle;\n",
       "    }\n",
       "\n",
       "    .dataframe tbody tr th {\n",
       "        vertical-align: top;\n",
       "    }\n",
       "\n",
       "    .dataframe thead th {\n",
       "        text-align: right;\n",
       "    }\n",
       "</style>\n",
       "<table border=\"1\" class=\"dataframe\">\n",
       "  <thead>\n",
       "    <tr style=\"text-align: right;\">\n",
       "      <th></th>\n",
       "      <th>values</th>\n",
       "    </tr>\n",
       "  </thead>\n",
       "  <tbody>\n",
       "    <tr>\n",
       "      <th>f</th>\n",
       "      <td>50</td>\n",
       "    </tr>\n",
       "  </tbody>\n",
       "</table>\n",
       "</div>"
      ],
      "text/plain": [
       "f    50\n",
       "dtype: int64"
      ]
     },
     "execution_count": 3,
     "metadata": {},
     "output_type": "execute_result"
    }
   ],
   "source": [
    "input_freq = Params(\n",
    "    f = 50\n",
    ")"
   ]
  },
  {
   "cell_type": "code",
   "execution_count": 4,
   "metadata": {},
   "outputs": [
    {
     "data": {
      "text/html": [
       "<div>\n",
       "<style scoped>\n",
       "    .dataframe tbody tr th:only-of-type {\n",
       "        vertical-align: middle;\n",
       "    }\n",
       "\n",
       "    .dataframe tbody tr th {\n",
       "        vertical-align: top;\n",
       "    }\n",
       "\n",
       "    .dataframe thead th {\n",
       "        text-align: right;\n",
       "    }\n",
       "</style>\n",
       "<table border=\"1\" class=\"dataframe\">\n",
       "  <thead>\n",
       "    <tr style=\"text-align: right;\">\n",
       "      <th></th>\n",
       "      <th>values</th>\n",
       "    </tr>\n",
       "  </thead>\n",
       "  <tbody>\n",
       "    <tr>\n",
       "      <th>R</th>\n",
       "      <td>4900.000000</td>\n",
       "    </tr>\n",
       "    <tr>\n",
       "      <th>C</th>\n",
       "      <td>0.000001</td>\n",
       "    </tr>\n",
       "    <tr>\n",
       "      <th>A</th>\n",
       "      <td>5.000000</td>\n",
       "    </tr>\n",
       "    <tr>\n",
       "      <th>f</th>\n",
       "      <td>50.000000</td>\n",
       "    </tr>\n",
       "    <tr>\n",
       "      <th>vin</th>\n",
       "      <td>0.000000</td>\n",
       "    </tr>\n",
       "  </tbody>\n",
       "</table>\n",
       "</div>"
      ],
      "text/plain": [
       "R      4900.000000\n",
       "C         0.000001\n",
       "A         5.000000\n",
       "f        50.000000\n",
       "vin       0.000000\n",
       "dtype: float64"
      ]
     },
     "execution_count": 4,
     "metadata": {},
     "output_type": "execute_result"
    }
   ],
   "source": [
    "params1 = Params(\n",
    "    R = 4.9e3,   # ohm\n",
    "    C = 1e-6,  # farad\n",
    "    A = 5,      # volt\n",
    "    f = input_freq.f,   # Hz\n",
    "    vin = 0\n",
    ")"
   ]
  },
  {
   "cell_type": "code",
   "execution_count": 5,
   "metadata": {},
   "outputs": [],
   "source": [
    "def make_system(params):\n",
    "    \"\"\"Makes a System object for the given conditions.\n",
    "    \n",
    "    params: Params object\n",
    "    \n",
    "    returns: System object\n",
    "    \"\"\"\n",
    "    unpack(params)\n",
    "    \n",
    "    init = State(V_out = 0)\n",
    "    omega = 2 * np.pi * input_freq.f\n",
    "    tau = R * C\n",
    "    cutoff = 1 / R / C / 2 / np.pi\n",
    "    t_end = 4 / input_freq.f\n",
    "    ts = linspace(0, t_end, 401)\n",
    "    \n",
    "    return System(R=R, C=C, A=A, f=input_freq.f,\n",
    "                  init=init, t_end=t_end, ts=ts,\n",
    "                  omega=omega, tau=tau, cutoff=cutoff, vin=vin)"
   ]
  },
  {
   "cell_type": "code",
   "execution_count": 6,
   "metadata": {},
   "outputs": [
    {
     "data": {
      "text/html": [
       "<div>\n",
       "<style scoped>\n",
       "    .dataframe tbody tr th:only-of-type {\n",
       "        vertical-align: middle;\n",
       "    }\n",
       "\n",
       "    .dataframe tbody tr th {\n",
       "        vertical-align: top;\n",
       "    }\n",
       "\n",
       "    .dataframe thead th {\n",
       "        text-align: right;\n",
       "    }\n",
       "</style>\n",
       "<table border=\"1\" class=\"dataframe\">\n",
       "  <thead>\n",
       "    <tr style=\"text-align: right;\">\n",
       "      <th></th>\n",
       "      <th>values</th>\n",
       "    </tr>\n",
       "  </thead>\n",
       "  <tbody>\n",
       "    <tr>\n",
       "      <th>R</th>\n",
       "      <td>4900</td>\n",
       "    </tr>\n",
       "    <tr>\n",
       "      <th>C</th>\n",
       "      <td>1e-06</td>\n",
       "    </tr>\n",
       "    <tr>\n",
       "      <th>A</th>\n",
       "      <td>5</td>\n",
       "    </tr>\n",
       "    <tr>\n",
       "      <th>f</th>\n",
       "      <td>50</td>\n",
       "    </tr>\n",
       "    <tr>\n",
       "      <th>init</th>\n",
       "      <td>V_out    0\n",
       "dtype: int64</td>\n",
       "    </tr>\n",
       "    <tr>\n",
       "      <th>t_end</th>\n",
       "      <td>0.08</td>\n",
       "    </tr>\n",
       "    <tr>\n",
       "      <th>ts</th>\n",
       "      <td>[0.0, 0.0002, 0.0004, 0.0006000000000000001, 0...</td>\n",
       "    </tr>\n",
       "    <tr>\n",
       "      <th>omega</th>\n",
       "      <td>314.159</td>\n",
       "    </tr>\n",
       "    <tr>\n",
       "      <th>tau</th>\n",
       "      <td>0.0049</td>\n",
       "    </tr>\n",
       "    <tr>\n",
       "      <th>cutoff</th>\n",
       "      <td>32.4806</td>\n",
       "    </tr>\n",
       "    <tr>\n",
       "      <th>vin</th>\n",
       "      <td>0</td>\n",
       "    </tr>\n",
       "  </tbody>\n",
       "</table>\n",
       "</div>"
      ],
      "text/plain": [
       "R                                                      4900\n",
       "C                                                     1e-06\n",
       "A                                                         5\n",
       "f                                                        50\n",
       "init                                V_out    0\n",
       "dtype: int64\n",
       "t_end                                                  0.08\n",
       "ts        [0.0, 0.0002, 0.0004, 0.0006000000000000001, 0...\n",
       "omega                                               314.159\n",
       "tau                                                  0.0049\n",
       "cutoff                                              32.4806\n",
       "vin                                                       0\n",
       "dtype: object"
      ]
     },
     "execution_count": 6,
     "metadata": {},
     "output_type": "execute_result"
    }
   ],
   "source": [
    "system1 = make_system(params1)"
   ]
  },
  {
   "cell_type": "code",
   "execution_count": 7,
   "metadata": {},
   "outputs": [
    {
     "data": {
      "image/png": "[encoded data removed]",
      "text/plain": [
       "<Figure size 432x288 with 1 Axes>"
      ]
     },
     "metadata": {
      "needs_background": "light"
     },
     "output_type": "display_data"
    }
   ],
   "source": [
    "x = linspace(0, system1.t_end * 1000, 401)\n",
    "v = A * np.cos(2 * pi * (f / 1000) * x)\n",
    "plt.plot(x, v)\n",
    "decorate(xlabel='Time (ms)',\n",
    "             ylabel='$V_{out}$ (volt)',\n",
    "             title='Input Signal',\n",
    "             legend=False)"
   ]
  },
  {
   "cell_type": "code",
   "execution_count": 8,
   "metadata": {},
   "outputs": [],
   "source": [
    "def slope_func_init(state, t, system):\n",
    "    \"\"\"Makes a slope function to update the state.\n",
    "    \n",
    "    state: State(V_out)\n",
    "    t: time\n",
    "    system: System Object\n",
    "    \n",
    "    returns: State(V_out)\"\"\"\n",
    "\n",
    "    vout = state\n",
    "    \n",
    "    unpack(system)\n",
    "    \n",
    "    vin = A * np.cos(2 * pi * f * t)\n",
    "    \n",
    "    dvoutdt = (vin - vout) / (R * C)\n",
    "    \n",
    "    return dvoutdt"
   ]
  },
  {
   "cell_type": "code",
   "execution_count": 9,
   "metadata": {},
   "outputs": [],
   "source": [
    "results1, details1 = run_ode_solver(system1, slope_func_init, t_eval=system1.ts)"
   ]
  },
  {
   "cell_type": "code",
   "execution_count": 10,
   "metadata": {},
   "outputs": [],
   "source": [
    "def plot_results(results):\n",
    "    xs = results.V_out.index\n",
    "    ys = results.V_out.values\n",
    "\n",
    "    t_end = get_last_label(results)\n",
    "    if t_end < 10:\n",
    "        xs *= 1000\n",
    "        xlabel = 'Time (ms)'\n",
    "    else:\n",
    "        xlabel = 'Time (s)'\n",
    "        \n",
    "    plot(xs, ys)\n",
    "    decorate(xlabel=xlabel,\n",
    "             ylabel='$V_{out}$ (volt)',\n",
    "             legend=False)"
   ]
  },
  {
   "cell_type": "code",
   "execution_count": 11,
   "metadata": {},
   "outputs": [
    {
     "data": {
      "text/html": [
       "<div>\n",
       "<style scoped>\n",
       "    .dataframe tbody tr th:only-of-type {\n",
       "        vertical-align: middle;\n",
       "    }\n",
       "\n",
       "    .dataframe tbody tr th {\n",
       "        vertical-align: top;\n",
       "    }\n",
       "\n",
       "    .dataframe thead th {\n",
       "        text-align: right;\n",
       "    }\n",
       "</style>\n",
       "<table border=\"1\" class=\"dataframe\">\n",
       "  <thead>\n",
       "    <tr style=\"text-align: right;\">\n",
       "      <th></th>\n",
       "      <th>values</th>\n",
       "    </tr>\n",
       "  </thead>\n",
       "  <tbody>\n",
       "    <tr>\n",
       "      <th>R</th>\n",
       "      <td>100000</td>\n",
       "    </tr>\n",
       "    <tr>\n",
       "      <th>C</th>\n",
       "      <td>1e-06</td>\n",
       "    </tr>\n",
       "    <tr>\n",
       "      <th>vin</th>\n",
       "      <td>0.0000    0.000000\n",
       "0.0002    0.199840\n",
       "0.0004  ...</td>\n",
       "    </tr>\n",
       "  </tbody>\n",
       "</table>\n",
       "</div>"
      ],
      "text/plain": [
       "R                                                 100000\n",
       "C                                                  1e-06\n",
       "vin    0.0000    0.000000\n",
       "0.0002    0.199840\n",
       "0.0004  ...\n",
       "dtype: object"
      ]
     },
     "execution_count": 11,
     "metadata": {},
     "output_type": "execute_result"
    }
   ],
   "source": [
    "params2 = Params(\n",
    "    R = 100e3,   # ohm\n",
    "    C = 1e-6,  # farad\n",
    "    vin = results1.V_out\n",
    ")"
   ]
  },
  {
   "cell_type": "code",
   "execution_count": 12,
   "metadata": {},
   "outputs": [
    {
     "data": {
      "text/html": [
       "<div>\n",
       "<style scoped>\n",
       "    .dataframe tbody tr th:only-of-type {\n",
       "        vertical-align: middle;\n",
       "    }\n",
       "\n",
       "    .dataframe tbody tr th {\n",
       "        vertical-align: top;\n",
       "    }\n",
       "\n",
       "    .dataframe thead th {\n",
       "        text-align: right;\n",
       "    }\n",
       "</style>\n",
       "<table border=\"1\" class=\"dataframe\">\n",
       "  <thead>\n",
       "    <tr style=\"text-align: right;\">\n",
       "      <th></th>\n",
       "      <th>values</th>\n",
       "    </tr>\n",
       "  </thead>\n",
       "  <tbody>\n",
       "    <tr>\n",
       "      <th>R</th>\n",
       "      <td>100000</td>\n",
       "    </tr>\n",
       "    <tr>\n",
       "      <th>C</th>\n",
       "      <td>1e-06</td>\n",
       "    </tr>\n",
       "    <tr>\n",
       "      <th>A</th>\n",
       "      <td>5</td>\n",
       "    </tr>\n",
       "    <tr>\n",
       "      <th>f</th>\n",
       "      <td>50</td>\n",
       "    </tr>\n",
       "    <tr>\n",
       "      <th>init</th>\n",
       "      <td>V_out    0\n",
       "dtype: int64</td>\n",
       "    </tr>\n",
       "    <tr>\n",
       "      <th>t_end</th>\n",
       "      <td>0.08</td>\n",
       "    </tr>\n",
       "    <tr>\n",
       "      <th>ts</th>\n",
       "      <td>[0.0, 0.0002, 0.0004, 0.0006000000000000001, 0...</td>\n",
       "    </tr>\n",
       "    <tr>\n",
       "      <th>omega</th>\n",
       "      <td>314.159</td>\n",
       "    </tr>\n",
       "    <tr>\n",
       "      <th>tau</th>\n",
       "      <td>0.1</td>\n",
       "    </tr>\n",
       "    <tr>\n",
       "      <th>cutoff</th>\n",
       "      <td>1.59155</td>\n",
       "    </tr>\n",
       "    <tr>\n",
       "      <th>vin</th>\n",
       "      <td>0.0000    0.000000\n",
       "0.0002    0.199840\n",
       "0.0004  ...</td>\n",
       "    </tr>\n",
       "  </tbody>\n",
       "</table>\n",
       "</div>"
      ],
      "text/plain": [
       "R                                                    100000\n",
       "C                                                     1e-06\n",
       "A                                                         5\n",
       "f                                                        50\n",
       "init                                V_out    0\n",
       "dtype: int64\n",
       "t_end                                                  0.08\n",
       "ts        [0.0, 0.0002, 0.0004, 0.0006000000000000001, 0...\n",
       "omega                                               314.159\n",
       "tau                                                     0.1\n",
       "cutoff                                              1.59155\n",
       "vin       0.0000    0.000000\n",
       "0.0002    0.199840\n",
       "0.0004  ...\n",
       "dtype: object"
      ]
     },
     "execution_count": 12,
     "metadata": {},
     "output_type": "execute_result"
    }
   ],
   "source": [
    "system2 = make_system(params2)"
   ]
  },
  {
   "cell_type": "code",
   "execution_count": 13,
   "metadata": {},
   "outputs": [],
   "source": [
    "def slope_func_high_pass(state, t, system):\n",
    "    \"\"\"Makes a slope function to update the state.\n",
    "    \n",
    "    state: State(V_out)\n",
    "    t: time\n",
    "    system: System Object\n",
    "    \n",
    "    returns: State(V_out)\n",
    "    \"\"\"\n",
    "    vout = state\n",
    "    \n",
    "    unpack(system)\n",
    "    \n",
    "    vin1 = A * np.cos(2 * pi * f * t)\n",
    "    \n",
    "    #vin = interpolate(system.vin)\n",
    "    \n",
    "    dvindt = (vin1 - vout) / (R * C)\n",
    "    \n",
    "    dvoutdt = dvindt - ((vout) / (R * C))\n",
    "    \n",
    "    return dvoutdt"
   ]
  },
  {
   "cell_type": "code",
   "execution_count": 14,
   "metadata": {},
   "outputs": [],
   "source": [
    "def slope_func_low_pass(state, t, system):\n",
    "    \"\"\"Makes a slope function to update the state.\n",
    "    \n",
    "    state: State(V_out)\n",
    "    t: time\n",
    "    system: System Object\n",
    "    \n",
    "    returns: State(V_out)\n",
    "    \"\"\"\n",
    "    vout = state\n",
    "    \n",
    "    #unpack(system)\n",
    "    \n",
    "    vin = interpolate(system.vin)\n",
    "    \n",
    "    dvoutdt = (vin(t) - vout) / (system.R * system.C)\n",
    "    \n",
    "    return dvoutdt"
   ]
  },
  {
   "cell_type": "code",
   "execution_count": null,
   "metadata": {},
   "outputs": [],
   "source": []
  },
  {
   "cell_type": "code",
   "execution_count": 15,
   "metadata": {},
   "outputs": [],
   "source": [
    "results2, details2 = run_ode_solver(system2, slope_func_high_pass, t_eval=system2.ts)"
   ]
  },
  {
   "cell_type": "code",
   "execution_count": 16,
   "metadata": {},
   "outputs": [
    {
     "data": {
      "text/html": [
       "<div>\n",
       "<style scoped>\n",
       "    .dataframe tbody tr th:only-of-type {\n",
       "        vertical-align: middle;\n",
       "    }\n",
       "\n",
       "    .dataframe tbody tr th {\n",
       "        vertical-align: top;\n",
       "    }\n",
       "\n",
       "    .dataframe thead th {\n",
       "        text-align: right;\n",
       "    }\n",
       "</style>\n",
       "<table border=\"1\" class=\"dataframe\">\n",
       "  <thead>\n",
       "    <tr style=\"text-align: right;\">\n",
       "      <th></th>\n",
       "      <th>values</th>\n",
       "    </tr>\n",
       "  </thead>\n",
       "  <tbody>\n",
       "    <tr>\n",
       "      <th>R</th>\n",
       "      <td>499</td>\n",
       "    </tr>\n",
       "    <tr>\n",
       "      <th>C</th>\n",
       "      <td>1e-05</td>\n",
       "    </tr>\n",
       "    <tr>\n",
       "      <th>vin</th>\n",
       "      <td>0.0000    0.000000\n",
       "0.0002    0.009973\n",
       "0.0004  ...</td>\n",
       "    </tr>\n",
       "  </tbody>\n",
       "</table>\n",
       "</div>"
      ],
      "text/plain": [
       "R                                                    499\n",
       "C                                                  1e-05\n",
       "vin    0.0000    0.000000\n",
       "0.0002    0.009973\n",
       "0.0004  ...\n",
       "dtype: object"
      ]
     },
     "execution_count": 16,
     "metadata": {},
     "output_type": "execute_result"
    }
   ],
   "source": [
    "params3 = Params(\n",
    "    R = 499,   # ohm\n",
    "    C = 10e-6,  # farad\n",
    "    vin = results2.V_out\n",
    ")"
   ]
  },
  {
   "cell_type": "code",
   "execution_count": 17,
   "metadata": {},
   "outputs": [
    {
     "data": {
      "text/html": [
       "<div>\n",
       "<style scoped>\n",
       "    .dataframe tbody tr th:only-of-type {\n",
       "        vertical-align: middle;\n",
       "    }\n",
       "\n",
       "    .dataframe tbody tr th {\n",
       "        vertical-align: top;\n",
       "    }\n",
       "\n",
       "    .dataframe thead th {\n",
       "        text-align: right;\n",
       "    }\n",
       "</style>\n",
       "<table border=\"1\" class=\"dataframe\">\n",
       "  <thead>\n",
       "    <tr style=\"text-align: right;\">\n",
       "      <th></th>\n",
       "      <th>values</th>\n",
       "    </tr>\n",
       "  </thead>\n",
       "  <tbody>\n",
       "    <tr>\n",
       "      <th>R</th>\n",
       "      <td>499</td>\n",
       "    </tr>\n",
       "    <tr>\n",
       "      <th>C</th>\n",
       "      <td>1e-05</td>\n",
       "    </tr>\n",
       "    <tr>\n",
       "      <th>A</th>\n",
       "      <td>5</td>\n",
       "    </tr>\n",
       "    <tr>\n",
       "      <th>f</th>\n",
       "      <td>50</td>\n",
       "    </tr>\n",
       "    <tr>\n",
       "      <th>init</th>\n",
       "      <td>V_out    0\n",
       "dtype: int64</td>\n",
       "    </tr>\n",
       "    <tr>\n",
       "      <th>t_end</th>\n",
       "      <td>0.08</td>\n",
       "    </tr>\n",
       "    <tr>\n",
       "      <th>ts</th>\n",
       "      <td>[0.0, 0.0002, 0.0004, 0.0006000000000000001, 0...</td>\n",
       "    </tr>\n",
       "    <tr>\n",
       "      <th>omega</th>\n",
       "      <td>314.159</td>\n",
       "    </tr>\n",
       "    <tr>\n",
       "      <th>tau</th>\n",
       "      <td>0.00499</td>\n",
       "    </tr>\n",
       "    <tr>\n",
       "      <th>cutoff</th>\n",
       "      <td>31.8948</td>\n",
       "    </tr>\n",
       "    <tr>\n",
       "      <th>vin</th>\n",
       "      <td>0.0000    0.000000\n",
       "0.0002    0.009973\n",
       "0.0004  ...</td>\n",
       "    </tr>\n",
       "  </tbody>\n",
       "</table>\n",
       "</div>"
      ],
      "text/plain": [
       "R                                                       499\n",
       "C                                                     1e-05\n",
       "A                                                         5\n",
       "f                                                        50\n",
       "init                                V_out    0\n",
       "dtype: int64\n",
       "t_end                                                  0.08\n",
       "ts        [0.0, 0.0002, 0.0004, 0.0006000000000000001, 0...\n",
       "omega                                               314.159\n",
       "tau                                                 0.00499\n",
       "cutoff                                              31.8948\n",
       "vin       0.0000    0.000000\n",
       "0.0002    0.009973\n",
       "0.0004  ...\n",
       "dtype: object"
      ]
     },
     "execution_count": 17,
     "metadata": {},
     "output_type": "execute_result"
    }
   ],
   "source": [
    "system3 = make_system(params3)"
   ]
  },
  {
   "cell_type": "code",
   "execution_count": 18,
   "metadata": {},
   "outputs": [],
   "source": [
    "results3, details3 = run_ode_solver(system3, slope_func_low_pass, t_eval=system3.ts)"
   ]
  },
  {
   "cell_type": "code",
   "execution_count": 19,
   "metadata": {},
   "outputs": [
    {
     "data": {
      "text/html": [
       "<div>\n",
       "<style scoped>\n",
       "    .dataframe tbody tr th:only-of-type {\n",
       "        vertical-align: middle;\n",
       "    }\n",
       "\n",
       "    .dataframe tbody tr th {\n",
       "        vertical-align: top;\n",
       "    }\n",
       "\n",
       "    .dataframe thead th {\n",
       "        text-align: right;\n",
       "    }\n",
       "</style>\n",
       "<table border=\"1\" class=\"dataframe\">\n",
       "  <thead>\n",
       "    <tr style=\"text-align: right;\">\n",
       "      <th></th>\n",
       "      <th>values</th>\n",
       "    </tr>\n",
       "  </thead>\n",
       "  <tbody>\n",
       "    <tr>\n",
       "      <th>R</th>\n",
       "      <td>4900</td>\n",
       "    </tr>\n",
       "    <tr>\n",
       "      <th>C</th>\n",
       "      <td>1e-06</td>\n",
       "    </tr>\n",
       "    <tr>\n",
       "      <th>vin</th>\n",
       "      <td>0.0000    0.000000\n",
       "0.0002    0.000197\n",
       "0.0004  ...</td>\n",
       "    </tr>\n",
       "  </tbody>\n",
       "</table>\n",
       "</div>"
      ],
      "text/plain": [
       "R                                                   4900\n",
       "C                                                  1e-06\n",
       "vin    0.0000    0.000000\n",
       "0.0002    0.000197\n",
       "0.0004  ...\n",
       "dtype: object"
      ]
     },
     "execution_count": 19,
     "metadata": {},
     "output_type": "execute_result"
    }
   ],
   "source": [
    "params4 = Params(\n",
    "    R = 4.9e3,   # ohm\n",
    "    C = 1e-6,  # farad\n",
    "    vin = results3.V_out\n",
    ")"
   ]
  },
  {
   "cell_type": "code",
   "execution_count": 20,
   "metadata": {},
   "outputs": [
    {
     "data": {
      "text/html": [
       "<div>\n",
       "<style scoped>\n",
       "    .dataframe tbody tr th:only-of-type {\n",
       "        vertical-align: middle;\n",
       "    }\n",
       "\n",
       "    .dataframe tbody tr th {\n",
       "        vertical-align: top;\n",
       "    }\n",
       "\n",
       "    .dataframe thead th {\n",
       "        text-align: right;\n",
       "    }\n",
       "</style>\n",
       "<table border=\"1\" class=\"dataframe\">\n",
       "  <thead>\n",
       "    <tr style=\"text-align: right;\">\n",
       "      <th></th>\n",
       "      <th>values</th>\n",
       "    </tr>\n",
       "  </thead>\n",
       "  <tbody>\n",
       "    <tr>\n",
       "      <th>R</th>\n",
       "      <td>4900</td>\n",
       "    </tr>\n",
       "    <tr>\n",
       "      <th>C</th>\n",
       "      <td>1e-06</td>\n",
       "    </tr>\n",
       "    <tr>\n",
       "      <th>A</th>\n",
       "      <td>5</td>\n",
       "    </tr>\n",
       "    <tr>\n",
       "      <th>f</th>\n",
       "      <td>50</td>\n",
       "    </tr>\n",
       "    <tr>\n",
       "      <th>init</th>\n",
       "      <td>V_out    0\n",
       "dtype: int64</td>\n",
       "    </tr>\n",
       "    <tr>\n",
       "      <th>t_end</th>\n",
       "      <td>0.08</td>\n",
       "    </tr>\n",
       "    <tr>\n",
       "      <th>ts</th>\n",
       "      <td>[0.0, 0.0002, 0.0004, 0.0006000000000000001, 0...</td>\n",
       "    </tr>\n",
       "    <tr>\n",
       "      <th>omega</th>\n",
       "      <td>314.159</td>\n",
       "    </tr>\n",
       "    <tr>\n",
       "      <th>tau</th>\n",
       "      <td>0.0049</td>\n",
       "    </tr>\n",
       "    <tr>\n",
       "      <th>cutoff</th>\n",
       "      <td>32.4806</td>\n",
       "    </tr>\n",
       "    <tr>\n",
       "      <th>vin</th>\n",
       "      <td>0.0000    0.000000\n",
       "0.0002    0.000197\n",
       "0.0004  ...</td>\n",
       "    </tr>\n",
       "  </tbody>\n",
       "</table>\n",
       "</div>"
      ],
      "text/plain": [
       "R                                                      4900\n",
       "C                                                     1e-06\n",
       "A                                                         5\n",
       "f                                                        50\n",
       "init                                V_out    0\n",
       "dtype: int64\n",
       "t_end                                                  0.08\n",
       "ts        [0.0, 0.0002, 0.0004, 0.0006000000000000001, 0...\n",
       "omega                                               314.159\n",
       "tau                                                  0.0049\n",
       "cutoff                                              32.4806\n",
       "vin       0.0000    0.000000\n",
       "0.0002    0.000197\n",
       "0.0004  ...\n",
       "dtype: object"
      ]
     },
     "execution_count": 20,
     "metadata": {},
     "output_type": "execute_result"
    }
   ],
   "source": [
    "system4 = make_system(params4)"
   ]
  },
  {
   "cell_type": "code",
   "execution_count": 21,
   "metadata": {},
   "outputs": [],
   "source": [
    "results4, details4 = run_ode_solver(system4, slope_func_low_pass, t_eval=system4.ts)"
   ]
  },
  {
   "cell_type": "code",
   "execution_count": 22,
   "metadata": {},
   "outputs": [
    {
     "data": {
      "image/png": "[encoded data removed]",
      "text/plain": [
       "<Figure size 432x288 with 1 Axes>"
      ]
     },
     "metadata": {
      "needs_background": "light"
     },
     "output_type": "display_data"
    }
   ],
   "source": [
    "plot_results(results1)\n",
    "plot_results(results2)\n",
    "plot_results(results3)\n",
    "plot_results(results4)"
   ]
  },
  {
   "cell_type": "code",
   "execution_count": 23,
   "metadata": {},
   "outputs": [
    {
     "data": {
      "text/plain": [
       "<matplotlib.legend.Legend at 0x1d6abbb3c18>"
      ]
     },
     "execution_count": 23,
     "metadata": {},
     "output_type": "execute_result"
    },
    {
     "data": {
      "image/png": "[encoded data removed]",
      "text/plain": [
       "<Figure size 432x288 with 1 Axes>"
      ]
     },
     "metadata": {
      "needs_background": "light"
     },
     "output_type": "display_data"
    }
   ],
   "source": [
    "#plt.xkcd()\n",
    "plot_results(results4)\n",
    "plt.plot(x, v)\n",
    "plt.legend([\"Filtered Signal\", \"Input Signal\"], loc='upper right', bbox_to_anchor=(1.35, 1))"
   ]
  },
  {
   "cell_type": "code",
   "execution_count": 24,
   "metadata": {},
   "outputs": [
    {
     "data": {
      "text/html": [
       "<div>\n",
       "<style scoped>\n",
       "    .dataframe tbody tr th:only-of-type {\n",
       "        vertical-align: middle;\n",
       "    }\n",
       "\n",
       "    .dataframe tbody tr th {\n",
       "        vertical-align: top;\n",
       "    }\n",
       "\n",
       "    .dataframe thead th {\n",
       "        text-align: right;\n",
       "    }\n",
       "</style>\n",
       "<table border=\"1\" class=\"dataframe\">\n",
       "  <thead>\n",
       "    <tr style=\"text-align: right;\">\n",
       "      <th></th>\n",
       "      <th>values</th>\n",
       "    </tr>\n",
       "  </thead>\n",
       "  <tbody>\n",
       "    <tr>\n",
       "      <th>R1</th>\n",
       "      <td>4900</td>\n",
       "    </tr>\n",
       "    <tr>\n",
       "      <th>C1</th>\n",
       "      <td>1e-06</td>\n",
       "    </tr>\n",
       "    <tr>\n",
       "      <th>vin2</th>\n",
       "      <td>0.0000    0.000000\n",
       "0.0002    0.199840\n",
       "0.0004  ...</td>\n",
       "    </tr>\n",
       "    <tr>\n",
       "      <th>R2</th>\n",
       "      <td>100000</td>\n",
       "    </tr>\n",
       "    <tr>\n",
       "      <th>C2</th>\n",
       "      <td>1e-06</td>\n",
       "    </tr>\n",
       "    <tr>\n",
       "      <th>vin3</th>\n",
       "      <td>0.0000    0.000000\n",
       "0.0002    0.009973\n",
       "0.0004  ...</td>\n",
       "    </tr>\n",
       "    <tr>\n",
       "      <th>R3</th>\n",
       "      <td>499</td>\n",
       "    </tr>\n",
       "    <tr>\n",
       "      <th>C3</th>\n",
       "      <td>1e-05</td>\n",
       "    </tr>\n",
       "    <tr>\n",
       "      <th>vin4</th>\n",
       "      <td>0.0000    0.000000\n",
       "0.0002    0.000197\n",
       "0.0004  ...</td>\n",
       "    </tr>\n",
       "    <tr>\n",
       "      <th>R4</th>\n",
       "      <td>4900</td>\n",
       "    </tr>\n",
       "    <tr>\n",
       "      <th>C4</th>\n",
       "      <td>1e-06</td>\n",
       "    </tr>\n",
       "  </tbody>\n",
       "</table>\n",
       "</div>"
      ],
      "text/plain": [
       "R1                                                   4900\n",
       "C1                                                  1e-06\n",
       "vin2    0.0000    0.000000\n",
       "0.0002    0.199840\n",
       "0.0004  ...\n",
       "R2                                                 100000\n",
       "C2                                                  1e-06\n",
       "vin3    0.0000    0.000000\n",
       "0.0002    0.009973\n",
       "0.0004  ...\n",
       "R3                                                    499\n",
       "C3                                                  1e-05\n",
       "vin4    0.0000    0.000000\n",
       "0.0002    0.000197\n",
       "0.0004  ...\n",
       "R4                                                   4900\n",
       "C4                                                  1e-06\n",
       "dtype: object"
      ]
     },
     "execution_count": 24,
     "metadata": {},
     "output_type": "execute_result"
    }
   ],
   "source": [
    "params_total = Params(\n",
    "    R1 = 4.9e3,   # ohm\n",
    "    C1 = 1e-6,  # farad\n",
    "    \n",
    "    vin2 = results1.V_out,\n",
    "    R2 = 100e3,   # ohm\n",
    "    C2 = 1e-6,  # farad\n",
    "    \n",
    "    vin3 = results2.V_out,\n",
    "    R3 = 499,   # ohm\n",
    "    C3 = 10e-6,  # farad\n",
    "    \n",
    "    vin4 = results3.V_out,\n",
    "    R4 = 4.9e3,   # ohm\n",
    "    C4 = 1e-6  # farad\n",
    ")"
   ]
  },
  {
   "cell_type": "code",
   "execution_count": 25,
   "metadata": {},
   "outputs": [],
   "source": [
    "def amp(R):\n",
    "    G = 1 + (100e3/R)\n",
    "    return G"
   ]
  },
  {
   "cell_type": "code",
   "execution_count": 26,
   "metadata": {},
   "outputs": [],
   "source": [
    "G1 = amp(2e3)\n",
    "G2 = amp(4.9e3);"
   ]
  },
  {
   "cell_type": "code",
   "execution_count": 27,
   "metadata": {},
   "outputs": [],
   "source": [
    "def run_sim(input_freq, make_system, slope_func_init, slope_func_high_pass, slope_func_low_pass, G1, G2):\n",
    "    \n",
    "    params5 = Params(\n",
    "    R = 4.9e3,   # ohm\n",
    "    C = 1e-6,  # farad\n",
    "    A = 5 * G1,      # volt\n",
    "    f = input_freq.f,   # Hz\n",
    "    vin = 0\n",
    "    )\n",
    "    \n",
    "    system5 = make_system(params5)\n",
    "    results5, details5 = run_ode_solver(system5, slope_func_init, t_eval=system5.ts)\n",
    "    \n",
    "    params6 = Params(\n",
    "    R = 100e3,   # ohm\n",
    "    C = 1e-6,  # farad\n",
    "    vin = results5.V_out\n",
    "    )\n",
    "    \n",
    "    system6 = make_system(params6)\n",
    "    results6, details6 = run_ode_solver(system6, slope_func_high_pass, t_eval=system6.ts)\n",
    "    \n",
    "    params7 = Params(\n",
    "    R = 499,   # ohm\n",
    "    C = 10e-6,  # farad\n",
    "    vin = results6.V_out * G2\n",
    "    )\n",
    "    \n",
    "    system7 = make_system(params7)\n",
    "    results7, details7 = run_ode_solver(system7, slope_func_low_pass, t_eval=system7.ts)\n",
    "    \n",
    "    params8 = Params(\n",
    "    R = 4.9e3,   # ohm\n",
    "    C = 1e-6,  # farad\n",
    "    vin = results7.V_out\n",
    "    )\n",
    "    \n",
    "    system8 = make_system(params8)\n",
    "    results8, details8 = run_ode_solver(system8, slope_func_low_pass, t_eval=system8.ts)\n",
    "    \n",
    "    A_in = params5.A\n",
    "    \n",
    "    A_out=(results8.V_out.max()-results8.V_out.min())/2\n",
    "        \n",
    "    ratio = A_out/A_in\n",
    "    \n",
    "    return State(results5=results5, results6=results6, result7=results7, results8=results8, ratio=ratio)"
   ]
  },
  {
   "cell_type": "code",
   "execution_count": 28,
   "metadata": {},
   "outputs": [],
   "source": [
    "input_freq.f = 50"
   ]
  },
  {
   "cell_type": "code",
   "execution_count": 29,
   "metadata": {},
   "outputs": [],
   "source": [
    "results5, results6, results7, results8, ratio = run_sim(input_freq, make_system, slope_func_init, slope_func_high_pass, slope_func_low_pass, G1, G2)"
   ]
  },
  {
   "cell_type": "code",
   "execution_count": 30,
   "metadata": {},
   "outputs": [
    {
     "data": {
      "image/png": "[encoded data removed]",
      "text/plain": [
       "<Figure size 432x288 with 1 Axes>"
      ]
     },
     "metadata": {
      "needs_background": "light"
     },
     "output_type": "display_data"
    }
   ],
   "source": [
    "plot_results(results5)\n",
    "plot_results(results6)\n",
    "plot_results(results7)\n",
    "plot_results(results8)"
   ]
  },
  {
   "cell_type": "code",
   "execution_count": 33,
   "metadata": {},
   "outputs": [],
   "source": [
    "sweep = SweepSeries()\n",
    "for f in linspace(1, 100, 50):\n",
    "    input_freq.f=f\n",
    "    state = run_sim(input_freq, make_system, slope_func_init, slope_func_high_pass, slope_func_low_pass, G1, G2).ratio\n",
    "    sweep[f] = state;"
   ]
  },
  {
   "cell_type": "code",
   "execution_count": 34,
   "metadata": {},
   "outputs": [
    {
     "name": "stdout",
     "output_type": "stream",
     "text": [
      "1      10.197651\n",
      "3       7.765590\n",
      "5       5.721766\n",
      "7       4.360892\n",
      "9       3.436437\n",
      "11      2.777009\n",
      "13      2.286031\n",
      "15      1.910413\n",
      "17      1.614331\n",
      "19      1.375114\n",
      "21      1.180210\n",
      "23      1.019132\n",
      "25      0.883861\n",
      "27      0.770262\n",
      "29      0.683819\n",
      "31      0.609985\n",
      "33      0.546003\n",
      "35      0.490474\n",
      "37      0.441881\n",
      "39      0.399260\n",
      "41      0.361922\n",
      "43      0.328699\n",
      "45      0.301777\n",
      "47      0.276901\n",
      "49      0.254763\n",
      "51      0.235084\n",
      "53      0.217114\n",
      "55      0.201070\n",
      "57      0.186681\n",
      "59      0.173584\n",
      "61      0.161632\n",
      "63      0.152690\n",
      "65      0.140752\n",
      "67      0.131721\n",
      "69      0.123395\n",
      "71      0.115944\n",
      "73      0.108831\n",
      "75      0.102378\n",
      "77      0.096689\n",
      "79      0.091285\n",
      "81      0.086353\n",
      "83      0.081716\n",
      "85      0.077447\n",
      "87      0.073453\n",
      "89      0.069748\n",
      "91      0.066270\n",
      "93      0.063024\n",
      "95      0.059960\n",
      "97      0.057083\n",
      "100     0.053145\n",
      "dtype: float64\n"
     ]
    },
    {
     "data": {
      "image/png": "[encoded data removed]",
      "text/plain": [
       "<Figure size 432x288 with 1 Axes>"
      ]
     },
     "metadata": {
      "needs_background": "light"
     },
     "output_type": "display_data"
    }
   ],
   "source": [
    "plot(sweep)\n",
    "decorate(xlabel='Frequency (Hz)',\n",
    "             ylabel='Amplitude',\n",
    "             xscale='log',\n",
    "             yscale='log')\n",
    "\n",
    "print(sweep)"
   ]
  },
  {
   "cell_type": "code",
   "execution_count": 40,
   "metadata": {},
   "outputs": [
    {
     "name": "stdout",
     "output_type": "stream",
     "text": [
      "      Frequency        nah  Amplitude          no\n",
      "0      0.578918  -2.749676   9.166125 -176.776346\n",
      "1      0.670291  -1.731548   8.851733 -178.787299\n",
      "2      0.776087  -0.761154   8.535242  178.534970\n",
      "3      0.898581   0.156845   8.211789  175.038234\n",
      "4      1.040408   1.015491   7.870623  170.544264\n",
      "5      1.204622   1.811066   7.494035  164.908806\n",
      "6      1.394753   2.538186   7.050318  157.974252\n",
      "7      1.614894   3.200437   6.611048  150.992660\n",
      "8      1.869782   3.794163   6.177780  145.023498\n",
      "9      2.164899   4.320080   5.702062  140.312912\n",
      "10     2.506597   4.780999   5.206926  138.970816\n",
      "11     2.902226   5.179527   4.752079  139.710698\n",
      "12     3.360299   5.518815   4.332876  140.403938\n",
      "13     3.890673   5.802273   3.944903  140.576621\n",
      "14     4.504759   6.033817   3.576641  140.199282\n",
      "15     5.215768   6.219584   3.213725  139.137557\n",
      "16     6.039000   6.358525   2.846817  137.328208\n",
      "17     6.992167   6.447138   2.465623  134.754803\n",
      "18     8.095778   6.488456   2.053791  131.427648\n",
      "19     9.373577   6.479920   1.597834  127.358591\n",
      "20    10.853058   6.422414   1.082162  122.602946\n",
      "21    12.566053   6.308038   0.501646  117.223033\n",
      "22    14.549419   6.132568  -0.150395  111.310169\n",
      "23    16.845831   5.891106  -0.873266  104.966135\n",
      "24    19.504696   5.574175  -1.657507   98.289317\n",
      "25    22.583225   5.175613  -2.494044   91.395626\n",
      "26    26.147654   4.696113  -3.380366   84.407909\n",
      "27    30.274676   4.128671  -4.294661   77.416361\n",
      "28    35.053087   3.477827  -5.250419   70.588912\n",
      "29    40.585699   2.743149  -6.215697   63.911738\n",
      "30    46.991553   1.932604  -7.206689   57.486124\n",
      "31    54.408477   1.049415  -8.235459   51.442279\n",
      "32    62.996052   0.106654  -9.253483   45.645791\n",
      "33    72.939050  -0.889320 -10.302643   40.319216\n",
      "34    84.451403  -1.935777 -11.357761   35.404822\n",
      "35    97.780812  -3.017475 -12.425658   30.813019\n",
      "36   113.214071  -4.130364 -13.552595   26.694104\n",
      "37   131.083242  -5.269384 -14.732558   23.103852\n",
      "38   151.772799  -6.427759 -15.989773   20.065826\n",
      "39   175.727896  -7.599528 -17.378720   17.601697\n",
      "40   203.463953  -8.793573 -18.864019   15.226391\n",
      "41   235.577737  -9.994267 -20.736734   13.134780\n",
      "42   272.760208 -11.205483 -22.959678   11.076088\n",
      "43   315.811383 -12.422824 -25.481096    8.701890\n",
      "44   365.657552 -13.646062 -28.592843    7.360824\n",
      "45   423.371204 -14.871737 -32.275237    5.811454\n",
      "46   490.194104 -16.105990 -36.126018    3.906094\n",
      "47   567.564013 -17.340654 -40.532858    2.760678\n",
      "48   657.145621 -18.583637 -44.937308    0.085909\n",
      "49   760.866365 -19.824146 -50.582226   -3.081478\n",
      "50   880.957898 -21.070494 -58.325452  -16.692196\n",
      "51  1020.004109 -22.313037 -66.009963   13.923569\n"
     ]
    }
   ],
   "source": [
    "from pandas import read_csv\n",
    "data = read_csv(\"Lab_5_Bode.csv\")\n",
    "data.columns = [\"Frequency\", \"nah\", \"Amplitude\", \"no\"]\n",
    "print(data)"
   ]
  },
  {
   "cell_type": "code",
   "execution_count": 52,
   "metadata": {},
   "outputs": [],
   "source": [
    "def plot_data(data):\n",
    "    f = (data.Frequency)\n",
    "    a = (data.Amplitude)\n",
    "       \n",
    "    plot(f, a)\n",
    "    decorate(xlabel='Frequency (Hz)',\n",
    "             ylabel='Amplitude',\n",
    "             xscale='log',\n",
    "             yscale='log',\n",
    "             title='Bode Plot Collected Data',\n",
    "             legend=False)"
   ]
  },
  {
   "cell_type": "code",
   "execution_count": 53,
   "metadata": {},
   "outputs": [
    {
     "data": {
      "image/png": "[encoded data removed]",
      "text/plain": [
       "<Figure size 432x288 with 1 Axes>"
      ]
     },
     "metadata": {
      "needs_background": "light"
     },
     "output_type": "display_data"
    }
   ],
   "source": [
    "plot_data(data)"
   ]
  },
  {
   "cell_type": "code",
   "execution_count": 54,
   "metadata": {},
   "outputs": [
    {
     "data": {
      "image/png": "[encoded data removed]",
      "text/plain": [
       "<Figure size 432x288 with 1 Axes>"
      ]
     },
     "metadata": {
      "needs_background": "light"
     },
     "output_type": "display_data"
    }
   ],
   "source": [
    "plot(sweep)\n",
    "decorate(xlabel='Frequency (Hz)',\n",
    "             ylabel='Amplitude',\n",
    "             title='Bode Plot Simulated VS Collected Data')\n",
    "plot_data(data)"
   ]
  },
  {
   "cell_type": "code",
   "execution_count": null,
   "metadata": {},
   "outputs": [],
   "source": []
  },
  {
   "cell_type": "code",
   "execution_count": null,
   "metadata": {},
   "outputs": [],
   "source": []
  },
  {
   "cell_type": "code",
   "execution_count": null,
   "metadata": {},
   "outputs": [],
   "source": []
  }
 ],
 "metadata": {
  "kernelspec": {
   "display_name": "Python 3",
   "language": "python",
   "name": "python3"
  },
  "language_info": {
   "codemirror_mode": {
    "name": "ipython",
    "version": 3
   },
   "file_extension": ".py",
   "mimetype": "text/x-python",
   "name": "python",
   "nbconvert_exporter": "python",
   "pygments_lexer": "ipython3",
   "version": "3.6.6"
  }
 },
 "nbformat": 4,
 "nbformat_minor": 2
}
