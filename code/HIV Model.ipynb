{
 "cells": [
  {
   "cell_type": "markdown",
   "metadata": {},
   "source": [
    "# HIV Model\n",
    "\n",
    "Arwen Sadler"
   ]
  },
  {
   "cell_type": "code",
   "execution_count": 78,
   "metadata": {},
   "outputs": [],
   "source": [
    "# Configure Jupyter to display the assigned value after an assignment\n",
    "%config InteractiveShell.ast_node_interactivity='last_expr_or_assign'\n",
    "\n",
    "# import everything from SymPy.\n",
    "from modsim import *\n",
    "\n",
    "# Set up Jupyter notebook to display math.\n",
    "init_printing() "
   ]
  },
  {
   "cell_type": "code",
   "execution_count": 79,
   "metadata": {},
   "outputs": [],
   "source": [
    "from sympy.printing import latex\n",
    "\n",
    "def show(expr, show_latex=False):\n",
    "    \"\"\"Display a SymPy expression.\n",
    "    \n",
    "    expr: SymPy expression\n",
    "    show_latex: boolean\n",
    "    \"\"\"\n",
    "    if show_latex:\n",
    "        print(latex(expr))\n",
    "    return expr"
   ]
  },
  {
   "cell_type": "code",
   "execution_count": 80,
   "metadata": {},
   "outputs": [
    {
     "data": {
      "image/png": "[encoded data removed]",
      "text/latex": [
       "$$\\sigma$$"
      ],
      "text/plain": [
       "σ"
      ]
     },
     "execution_count": 80,
     "metadata": {},
     "output_type": "execute_result"
    }
   ],
   "source": [
    "#Set up all the symbols for the equations--I might not need this to actually write the function\n",
    "R = symbols('R')\n",
    "t = symbols('t')\n",
    "dRdt = diff(R(t),t)\n",
    "gamma = symbols('Gamma')\n",
    "tau = symbols('tau')\n",
    "mu = symbols('mu')\n",
    "beta = symbols('beta')\n",
    "V = symbols('V')\n",
    "L = symbols('L')\n",
    "dLdt = diff(L(t), t)\n",
    "rho = symbols('rho')\n",
    "alpha = symbols('alpha')\n",
    "E = symbols('E')\n",
    "dEdt = diff(E(t), t)\n",
    "delta = symbols('delta')\n",
    "dVdt = diff(V(t),t)\n",
    "pi = symbols('pi')\n",
    "sigma = symbols('sigma')"
   ]
  },
  {
   "cell_type": "code",
   "execution_count": 81,
   "metadata": {},
   "outputs": [
    {
     "data": {
      "image/png": "[encoded data removed]",
      "text/latex": [
       "$$\\frac{d}{d t} V{\\left (t \\right )} = E \\pi - V \\sigma$$"
      ],
      "text/plain": [
       "d                   \n",
       "──(V(t)) = E⋅π - V⋅σ\n",
       "dt                  "
      ]
     },
     "execution_count": 81,
     "metadata": {},
     "output_type": "execute_result"
    }
   ],
   "source": [
    "#Set up the equations--I might not need this to actually write the function\n",
    "dRdt = Eq(dRdt, gamma*tau - mu*R - beta*R*V)\n",
    "dLdt = Eq(dLdt, rho*beta*R*V - mu*L - alpha*L)\n",
    "dEdt = Eq(dEdt, (1-rho)*beta*R*V + alpha*L - delta*E)\n",
    "dVdt = Eq(dVdt, pi*E - sigma*V)"
   ]
  },
  {
   "cell_type": "code",
   "execution_count": null,
   "metadata": {},
   "outputs": [],
   "source": []
  },
  {
   "cell_type": "code",
   "execution_count": 90,
   "metadata": {},
   "outputs": [
    {
     "data": {
      "text/html": [
       "<div>\n",
       "<style scoped>\n",
       "    .dataframe tbody tr th:only-of-type {\n",
       "        vertical-align: middle;\n",
       "    }\n",
       "\n",
       "    .dataframe tbody tr th {\n",
       "        vertical-align: top;\n",
       "    }\n",
       "\n",
       "    .dataframe thead th {\n",
       "        text-align: right;\n",
       "    }\n",
       "</style>\n",
       "<table border=\"1\" class=\"dataframe\">\n",
       "  <thead>\n",
       "    <tr style=\"text-align: right;\">\n",
       "      <th></th>\n",
       "      <th>values</th>\n",
       "    </tr>\n",
       "  </thead>\n",
       "  <tbody>\n",
       "    <tr>\n",
       "      <th>R</th>\n",
       "      <td>1.000000e+03</td>\n",
       "    </tr>\n",
       "    <tr>\n",
       "      <th>L</th>\n",
       "      <td>0.000000e+00</td>\n",
       "    </tr>\n",
       "    <tr>\n",
       "      <th>E</th>\n",
       "      <td>0.000000e+00</td>\n",
       "    </tr>\n",
       "    <tr>\n",
       "      <th>V</th>\n",
       "      <td>4.000000e-07</td>\n",
       "    </tr>\n",
       "    <tr>\n",
       "      <th>t_0</th>\n",
       "      <td>0.000000e+00</td>\n",
       "    </tr>\n",
       "    <tr>\n",
       "      <th>t_end</th>\n",
       "      <td>1.200000e+02</td>\n",
       "    </tr>\n",
       "  </tbody>\n",
       "</table>\n",
       "</div>"
      ],
      "text/plain": [
       "R        1.000000e+03\n",
       "L        0.000000e+00\n",
       "E        0.000000e+00\n",
       "V        4.000000e-07\n",
       "t_0      0.000000e+00\n",
       "t_end    1.200000e+02\n",
       "dtype: float64"
      ]
     },
     "execution_count": 90,
     "metadata": {},
     "output_type": "execute_result"
    }
   ],
   "source": [
    "#Set up the state variable\n",
    "state = State(R=1000,\n",
    "             L=0,\n",
    "             E=0,\n",
    "             V=0.0000004,\n",
    "             t_0 = 0,\n",
    "             t_end = 120)"
   ]
  },
  {
   "cell_type": "code",
   "execution_count": 83,
   "metadata": {},
   "outputs": [
    {
     "data": {
      "text/html": [
       "<div>\n",
       "<style scoped>\n",
       "    .dataframe tbody tr th:only-of-type {\n",
       "        vertical-align: middle;\n",
       "    }\n",
       "\n",
       "    .dataframe tbody tr th {\n",
       "        vertical-align: top;\n",
       "    }\n",
       "\n",
       "    .dataframe thead th {\n",
       "        text-align: right;\n",
       "    }\n",
       "</style>\n",
       "<table border=\"1\" class=\"dataframe\">\n",
       "  <thead>\n",
       "    <tr style=\"text-align: right;\">\n",
       "      <th></th>\n",
       "      <th>values</th>\n",
       "    </tr>\n",
       "  </thead>\n",
       "  <tbody>\n",
       "    <tr>\n",
       "      <th>gamma</th>\n",
       "      <td>1.36</td>\n",
       "    </tr>\n",
       "    <tr>\n",
       "      <th>mu</th>\n",
       "      <td>0.00136</td>\n",
       "    </tr>\n",
       "    <tr>\n",
       "      <th>tau</th>\n",
       "      <td>0.2</td>\n",
       "    </tr>\n",
       "    <tr>\n",
       "      <th>beta</th>\n",
       "      <td>0.00027/V</td>\n",
       "    </tr>\n",
       "    <tr>\n",
       "      <th>rho</th>\n",
       "      <td>0.1</td>\n",
       "    </tr>\n",
       "    <tr>\n",
       "      <th>alpha</th>\n",
       "      <td>0.036</td>\n",
       "    </tr>\n",
       "    <tr>\n",
       "      <th>sigma</th>\n",
       "      <td>2</td>\n",
       "    </tr>\n",
       "    <tr>\n",
       "      <th>delta</th>\n",
       "      <td>0.33</td>\n",
       "    </tr>\n",
       "    <tr>\n",
       "      <th>pi</th>\n",
       "      <td>100</td>\n",
       "    </tr>\n",
       "  </tbody>\n",
       "</table>\n",
       "</div>"
      ],
      "text/plain": [
       "gamma         1.36\n",
       "mu         0.00136\n",
       "tau            0.2\n",
       "beta     0.00027/V\n",
       "rho            0.1\n",
       "alpha        0.036\n",
       "sigma            2\n",
       "delta         0.33\n",
       "pi             100\n",
       "dtype: object"
      ]
     },
     "execution_count": 83,
     "metadata": {},
     "output_type": "execute_result"
    }
   ],
   "source": [
    "#Set up the system object\n",
    "system = System(gamma = 1.36,\n",
    "                mu = 0.00136,\n",
    "                tau = 0.2,\n",
    "                beta = 0.00027/V,\n",
    "                rho = 0.1,\n",
    "                alpha = 0.036,\n",
    "                sigma = 2,\n",
    "                delta = 0.33,\n",
    "                pi = 100)"
   ]
  },
  {
   "cell_type": "code",
   "execution_count": 87,
   "metadata": {},
   "outputs": [],
   "source": [
    "def update_func(state, system):\n",
    "    '''Update the HIV model\n",
    "    \n",
    "    state : State(r, l, e, v)\n",
    "    t: time\n",
    "    system: System object\n",
    "    \n",
    "    returns: State(RLEV)'''\n",
    "    \n",
    "    r, l, e, v = state\n",
    "    \n",
    "    dRdt = gamma*tau - mu*r - beta*r*v\n",
    "    dLdt = rho*beta*r*v - mu*l - alpha*l\n",
    "    dEdt = (1-rho)*beta*r*v + alpha*l - delta*e\n",
    "    dVdt = pi*e - sigma*v\n",
    "    \n",
    "    r += dRdt\n",
    "    l += dLdt\n",
    "    e += dEdt\n",
    "    v += dVdt\n",
    "    \n",
    "    return State(R=r, L=l, E=e, V=v)"
   ]
  },
  {
   "cell_type": "code",
   "execution_count": null,
   "metadata": {},
   "outputs": [],
   "source": []
  }
 ],
 "metadata": {
  "kernelspec": {
   "display_name": "Python 3",
   "language": "python",
   "name": "python3"
  },
  "language_info": {
   "codemirror_mode": {
    "name": "ipython",
    "version": 3
   },
   "file_extension": ".py",
   "mimetype": "text/x-python",
   "name": "python",
   "nbconvert_exporter": "python",
   "pygments_lexer": "ipython3",
   "version": "3.6.6"
  }
 },
 "nbformat": 4,
 "nbformat_minor": 2
}
