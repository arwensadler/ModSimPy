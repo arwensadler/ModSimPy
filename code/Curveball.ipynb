{
 "cells": [
  {
   "cell_type": "markdown",
   "metadata": {},
   "source": [
    "# Simulating the Physics of a Curveball\n",
    "Arwen Sadler and Leila Merzenich"
   ]
  },
  {
   "cell_type": "code",
   "execution_count": 1,
   "metadata": {},
   "outputs": [],
   "source": [
    "# Configure Jupyter so figures appear in the notebook\n",
    "%matplotlib inline\n",
    "\n",
    "# Configure Jupyter to display the assigned value after an assignment\n",
    "%config InteractiveShell.ast_node_interactivity='last_expr_or_assign'\n",
    "\n",
    "# import functions from the modsim.py module\n",
    "from modsim import *"
   ]
  },
  {
   "cell_type": "markdown",
   "metadata": {},
   "source": [
    "## Question\n",
    "\n",
    "For this project, we made a simulation modeling the behavior of a curveball in order to determine what the ideal angle to throw the ball would be so that it hits the strike zone."
   ]
  },
  {
   "cell_type": "markdown",
   "metadata": {},
   "source": [
    "## Method\n",
    "\n",
    "According to [the MLB website](https://www.mlb.com/news/statcast-spin-rate-compared-to-velocity/c-160896926), the average speed of a curveball in the 2015 season was 78.2 mph, or about 34.96 m/s, and that the average rpm was 2,308.\n",
    "\n",
    "We estimated the height at which the ball leaves the pitcher's hand by watching slow-motion videos of curveball pitches and using the pitcher's height as a reference.\n",
    "\n",
    "We found the angle of throw by sweeping angles between 0 and 5 degrees through a function that returned the final height of the ball when it reaches home plate, knowing that we wanted the height to be in the center of the strike zone (about 0.93 m)."
   ]
  },
  {
   "cell_type": "code",
   "execution_count": 2,
   "metadata": {},
   "outputs": [
    {
     "data": {
      "text/html": [
       "<div>\n",
       "<style scoped>\n",
       "    .dataframe tbody tr th:only-of-type {\n",
       "        vertical-align: middle;\n",
       "    }\n",
       "\n",
       "    .dataframe tbody tr th {\n",
       "        vertical-align: top;\n",
       "    }\n",
       "\n",
       "    .dataframe thead th {\n",
       "        text-align: right;\n",
       "    }\n",
       "</style>\n",
       "<table border=\"1\" class=\"dataframe\">\n",
       "  <thead>\n",
       "    <tr style=\"text-align: right;\">\n",
       "      <th></th>\n",
       "      <th>values</th>\n",
       "    </tr>\n",
       "  </thead>\n",
       "  <tbody>\n",
       "    <tr>\n",
       "      <th>x</th>\n",
       "      <td>0.000000</td>\n",
       "    </tr>\n",
       "    <tr>\n",
       "      <th>y</th>\n",
       "      <td>1.700000</td>\n",
       "    </tr>\n",
       "    <tr>\n",
       "      <th>z</th>\n",
       "      <td>0.000000</td>\n",
       "    </tr>\n",
       "    <tr>\n",
       "      <th>g</th>\n",
       "      <td>9.800000</td>\n",
       "    </tr>\n",
       "    <tr>\n",
       "      <th>mass</th>\n",
       "      <td>0.145000</td>\n",
       "    </tr>\n",
       "    <tr>\n",
       "      <th>diameter</th>\n",
       "      <td>0.073000</td>\n",
       "    </tr>\n",
       "    <tr>\n",
       "      <th>rho</th>\n",
       "      <td>1.200000</td>\n",
       "    </tr>\n",
       "    <tr>\n",
       "      <th>C_d</th>\n",
       "      <td>0.330000</td>\n",
       "    </tr>\n",
       "    <tr>\n",
       "      <th>angle_xy</th>\n",
       "      <td>10.000000</td>\n",
       "    </tr>\n",
       "    <tr>\n",
       "      <th>angle_yz</th>\n",
       "      <td>35.000000</td>\n",
       "    </tr>\n",
       "    <tr>\n",
       "      <th>angle_xz</th>\n",
       "      <td>12.000000</td>\n",
       "    </tr>\n",
       "    <tr>\n",
       "      <th>velocity</th>\n",
       "      <td>34.960000</td>\n",
       "    </tr>\n",
       "    <tr>\n",
       "      <th>rps</th>\n",
       "      <td>38.466667</td>\n",
       "    </tr>\n",
       "  </tbody>\n",
       "</table>\n",
       "</div>"
      ],
      "text/plain": [
       "x            0.000000\n",
       "y            1.700000\n",
       "z            0.000000\n",
       "g            9.800000\n",
       "mass         0.145000\n",
       "diameter     0.073000\n",
       "rho          1.200000\n",
       "C_d          0.330000\n",
       "angle_xy    10.000000\n",
       "angle_yz    35.000000\n",
       "angle_xz    12.000000\n",
       "velocity    34.960000\n",
       "rps         38.466667\n",
       "dtype: float64"
      ]
     },
     "execution_count": 2,
     "metadata": {},
     "output_type": "execute_result"
    }
   ],
   "source": [
    "params = Params(x = 0, \n",
    "                y = 1.7,\n",
    "                z = 0, # A line connecting the mound to home plate\n",
    "                g = 9.8, #gravity\n",
    "                mass = 145e-3,\n",
    "                diameter = 73e-3,\n",
    "                rho = 1.2,\n",
    "                C_d = 0.33,\n",
    "                angle_xy = 10, #angle of throw b/w x and y axes--2.17 w/ no rotation\n",
    "                angle_yz = 35, #angle of rotation b/w y and z axes\n",
    "                angle_xz = 12, #angle from the x axis to the z axis (0 is along the x axis)\n",
    "                velocity = 34.96,\n",
    "                rps = 2308 / 60\n",
    "                )"
   ]
  },
  {
   "cell_type": "code",
   "execution_count": 3,
   "metadata": {},
   "outputs": [],
   "source": [
    "def make_system(params):\n",
    "    \"\"\"Make a system object.\n",
    "    \n",
    "    params: Params object with angle, velocity, x, y,\n",
    "               diameter, duration, g, mass, rho, and C_d\n",
    "               \n",
    "    returns: System object\n",
    "    \"\"\"\n",
    "    unpack(params)\n",
    "    \n",
    "    t_end = 10\n",
    "    \n",
    "    # convert x-y angle to radians\n",
    "    theta_xy = np.deg2rad(angle_xy)\n",
    "    \n",
    "    # compute total x & z magnitude and y components of velocity\n",
    "    vxz_mag, vy = pol2cart(theta_xy, velocity)\n",
    "    \n",
    "    # convert x-z angle to radians\n",
    "    theta_xz = np.deg2rad(angle_xz)\n",
    "    \n",
    "    # compute x and z components of velocity\n",
    "    vx, vz = pol2cart(theta_xz, vxz_mag) \n",
    "    \n",
    "    # make the initial state\n",
    "    init = State(x=x, y=y, z=z, vx=vx, vy=vy, vz=vz)\n",
    "    \n",
    "    # compute area from diameter\n",
    "    area = np.pi * (diameter/2)**2\n",
    "    \n",
    "    return System(params, init=init, area=area, t_end=t_end)"
   ]
  },
  {
   "cell_type": "code",
   "execution_count": 4,
   "metadata": {},
   "outputs": [
    {
     "data": {
      "text/html": [
       "<div>\n",
       "<style scoped>\n",
       "    .dataframe tbody tr th:only-of-type {\n",
       "        vertical-align: middle;\n",
       "    }\n",
       "\n",
       "    .dataframe tbody tr th {\n",
       "        vertical-align: top;\n",
       "    }\n",
       "\n",
       "    .dataframe thead th {\n",
       "        text-align: right;\n",
       "    }\n",
       "</style>\n",
       "<table border=\"1\" class=\"dataframe\">\n",
       "  <thead>\n",
       "    <tr style=\"text-align: right;\">\n",
       "      <th></th>\n",
       "      <th>values</th>\n",
       "    </tr>\n",
       "  </thead>\n",
       "  <tbody>\n",
       "    <tr>\n",
       "      <th>x</th>\n",
       "      <td>0</td>\n",
       "    </tr>\n",
       "    <tr>\n",
       "      <th>y</th>\n",
       "      <td>1.7</td>\n",
       "    </tr>\n",
       "    <tr>\n",
       "      <th>z</th>\n",
       "      <td>0</td>\n",
       "    </tr>\n",
       "    <tr>\n",
       "      <th>g</th>\n",
       "      <td>9.8</td>\n",
       "    </tr>\n",
       "    <tr>\n",
       "      <th>mass</th>\n",
       "      <td>0.145</td>\n",
       "    </tr>\n",
       "    <tr>\n",
       "      <th>diameter</th>\n",
       "      <td>0.073</td>\n",
       "    </tr>\n",
       "    <tr>\n",
       "      <th>rho</th>\n",
       "      <td>1.2</td>\n",
       "    </tr>\n",
       "    <tr>\n",
       "      <th>C_d</th>\n",
       "      <td>0.33</td>\n",
       "    </tr>\n",
       "    <tr>\n",
       "      <th>angle_xy</th>\n",
       "      <td>10</td>\n",
       "    </tr>\n",
       "    <tr>\n",
       "      <th>angle_yz</th>\n",
       "      <td>35</td>\n",
       "    </tr>\n",
       "    <tr>\n",
       "      <th>angle_xz</th>\n",
       "      <td>12</td>\n",
       "    </tr>\n",
       "    <tr>\n",
       "      <th>velocity</th>\n",
       "      <td>34.96</td>\n",
       "    </tr>\n",
       "    <tr>\n",
       "      <th>rps</th>\n",
       "      <td>38.4667</td>\n",
       "    </tr>\n",
       "    <tr>\n",
       "      <th>init</th>\n",
       "      <td>x      0.000000\n",
       "y      1.700000\n",
       "z      0.00000...</td>\n",
       "    </tr>\n",
       "    <tr>\n",
       "      <th>area</th>\n",
       "      <td>0.00418539</td>\n",
       "    </tr>\n",
       "    <tr>\n",
       "      <th>t_end</th>\n",
       "      <td>10</td>\n",
       "    </tr>\n",
       "  </tbody>\n",
       "</table>\n",
       "</div>"
      ],
      "text/plain": [
       "x                                                           0\n",
       "y                                                         1.7\n",
       "z                                                           0\n",
       "g                                                         9.8\n",
       "mass                                                    0.145\n",
       "diameter                                                0.073\n",
       "rho                                                       1.2\n",
       "C_d                                                      0.33\n",
       "angle_xy                                                   10\n",
       "angle_yz                                                   35\n",
       "angle_xz                                                   12\n",
       "velocity                                                34.96\n",
       "rps                                                   38.4667\n",
       "init        x      0.000000\n",
       "y      1.700000\n",
       "z      0.00000...\n",
       "area                                               0.00418539\n",
       "t_end                                                      10\n",
       "dtype: object"
      ]
     },
     "execution_count": 4,
     "metadata": {},
     "output_type": "execute_result"
    }
   ],
   "source": [
    "system = make_system(params)"
   ]
  },
  {
   "cell_type": "code",
   "execution_count": 5,
   "metadata": {},
   "outputs": [],
   "source": [
    "def drag_force(v, system):\n",
    "    \"\"\"Computes drag force in the opposite direction of `v`.\n",
    "    \n",
    "    v: velocity Vector\n",
    "    system: System object with rho, C_d, area\n",
    "    \n",
    "    returns: Vector drag force\n",
    "    \"\"\"\n",
    "    unpack(system)\n",
    "    mag = rho * v.mag**2 * C_d * area / 2\n",
    "    direction = -v.hat()\n",
    "    f_drag = direction * mag\n",
    "    return f_drag"
   ]
  },
  {
   "cell_type": "code",
   "execution_count": 6,
   "metadata": {},
   "outputs": [
    {
     "data": {
      "text/html": [
       "[-0.11719681 -0.11719681] dimensionless"
      ],
      "text/latex": [
       "$[-0.11719681 -0.11719681] dimensionless$"
      ],
      "text/plain": [
       "<Quantity([-0.11719681 -0.11719681], 'dimensionless')>"
      ]
     },
     "execution_count": 6,
     "metadata": {},
     "output_type": "execute_result"
    }
   ],
   "source": [
    "v_test = Vector(10, 10)\n",
    "drag_force(v_test, system)"
   ]
  },
  {
   "cell_type": "markdown",
   "metadata": {},
   "source": [
    "Magnus Force also effects the path of the ball. According to NASA, the lift on a sphere caused by Magnus Force is:\n",
    "\n",
    "L = 16/3 (pi^2 * r^3 * s * rho * V)\n",
    "\n",
    "Where s is the angular velocity of the ball, r is the radius of the ball, rho is the density of the air, and V is the velocity of the air in comparison to the velocity of the ball."
   ]
  },
  {
   "cell_type": "code",
   "execution_count": 7,
   "metadata": {},
   "outputs": [],
   "source": [
    "def mag_force(v, system):\n",
    "    \"\"\"Computes drag force in the opposite direction of `v`.\n",
    "    \n",
    "    v: velocity Vector\n",
    "    system: System object with rho, C_d, area\n",
    "    \n",
    "    returns: Vector drag force\n",
    "    \"\"\"\n",
    "    unpack(system)\n",
    "    \n",
    "    # convert angle_yz to radians\n",
    "    theta_yz = np.deg2rad(angle_yz)\n",
    "    \n",
    "    # convert angle_xz to radians\n",
    "    theta_xz = np.deg2rad(angle_xz+90)\n",
    "    \n",
    "    # compute magnus force direction\n",
    "    lzx_mag, ly = pol2cart(theta_yz, 1)\n",
    "    lx, lz = pol2cart(theta_xz, lzx_mag)\n",
    "    s = Vector(lx, ly, lz)\n",
    "    \n",
    "    mag = 16/3 * (np.pi**2 * (diameter/2)**3 * rps * rho * v.mag) #Assuming air velocity is 0\n",
    "    direction = -s.hat()#the direction it's rotating, a unit vector in the system\n",
    "    L = direction * mag\n",
    "    \n",
    "    return L"
   ]
  },
  {
   "cell_type": "code",
   "execution_count": 8,
   "metadata": {},
   "outputs": [],
   "source": [
    "def slope_func(state, t, system):\n",
    "    \"\"\"Computes derivatives of the state variables.\n",
    "    \n",
    "    state: State (x, y, x velocity, y velocity)\n",
    "    t: time\n",
    "    system: System object with g, rho, C_d, area, mass\n",
    "    \n",
    "    returns: sequence (vx, vy, ax, ay)\n",
    "    \"\"\"\n",
    "    x, y, z, vx, vy, vz = state\n",
    "    unpack(system)\n",
    "\n",
    "    v = Vector(vx, vy, vz)    \n",
    "    a_drag = drag_force(v, system) / mass\n",
    "    a_grav = Vector(0, -g, 0)\n",
    "    a_mag = mag_force(v, system) / mass\n",
    "    \n",
    "    a = a_grav + a_drag + a_mag\n",
    "    \n",
    "    return vx, vy, vz, a.x, a.y, a.z"
   ]
  },
  {
   "cell_type": "code",
   "execution_count": 9,
   "metadata": {},
   "outputs": [
    {
     "data": {
      "text/plain": [
       "(33.67652543412124,\n",
       " 6.070740291235884,\n",
       " 7.15816645526986,\n",
       " <Quantity(-1.8770521832226574, 'dimensionless')>,\n",
       " <Quantity(-27.352414168499262, 'dimensionless')>,\n",
       " <Quantity(-24.25546248579969, 'dimensionless')>)"
      ]
     },
     "execution_count": 9,
     "metadata": {},
     "output_type": "execute_result"
    }
   ],
   "source": [
    "slope_func(system.init, 0, system)"
   ]
  },
  {
   "cell_type": "code",
   "execution_count": 10,
   "metadata": {},
   "outputs": [],
   "source": [
    "def event_func(state, t, system):\n",
    "    \"\"\"Stop when the y coordinate is 0.\n",
    "    \n",
    "    state: State object\n",
    "    t: time\n",
    "    system: System object\n",
    "    \n",
    "    returns: y coordinate\n",
    "    \"\"\"\n",
    "    x, y, z, vx, vy, vz = state\n",
    "    return x - 18.44"
   ]
  },
  {
   "cell_type": "code",
   "execution_count": 11,
   "metadata": {},
   "outputs": [
    {
     "data": {
      "text/plain": [
       "-18.44"
      ]
     },
     "execution_count": 11,
     "metadata": {},
     "output_type": "execute_result"
    }
   ],
   "source": [
    "event_func(system.init, 0, system)"
   ]
  },
  {
   "cell_type": "code",
   "execution_count": 12,
   "metadata": {},
   "outputs": [
    {
     "data": {
      "text/html": [
       "<div>\n",
       "<style scoped>\n",
       "    .dataframe tbody tr th:only-of-type {\n",
       "        vertical-align: middle;\n",
       "    }\n",
       "\n",
       "    .dataframe tbody tr th {\n",
       "        vertical-align: top;\n",
       "    }\n",
       "\n",
       "    .dataframe thead th {\n",
       "        text-align: right;\n",
       "    }\n",
       "</style>\n",
       "<table border=\"1\" class=\"dataframe\">\n",
       "  <thead>\n",
       "    <tr style=\"text-align: right;\">\n",
       "      <th></th>\n",
       "      <th>values</th>\n",
       "    </tr>\n",
       "  </thead>\n",
       "  <tbody>\n",
       "    <tr>\n",
       "      <th>sol</th>\n",
       "      <td>None</td>\n",
       "    </tr>\n",
       "    <tr>\n",
       "      <th>t_events</th>\n",
       "      <td>[[0.5555880475250194]]</td>\n",
       "    </tr>\n",
       "    <tr>\n",
       "      <th>nfev</th>\n",
       "      <td>56</td>\n",
       "    </tr>\n",
       "    <tr>\n",
       "      <th>njev</th>\n",
       "      <td>0</td>\n",
       "    </tr>\n",
       "    <tr>\n",
       "      <th>nlu</th>\n",
       "      <td>0</td>\n",
       "    </tr>\n",
       "    <tr>\n",
       "      <th>status</th>\n",
       "      <td>1</td>\n",
       "    </tr>\n",
       "    <tr>\n",
       "      <th>message</th>\n",
       "      <td>A termination event occurred.</td>\n",
       "    </tr>\n",
       "    <tr>\n",
       "      <th>success</th>\n",
       "      <td>True</td>\n",
       "    </tr>\n",
       "  </tbody>\n",
       "</table>\n",
       "</div>"
      ],
      "text/plain": [
       "sol                                  None\n",
       "t_events           [[0.5555880475250194]]\n",
       "nfev                                   56\n",
       "njev                                    0\n",
       "nlu                                     0\n",
       "status                                  1\n",
       "message     A termination event occurred.\n",
       "success                              True\n",
       "dtype: object"
      ]
     },
     "execution_count": 12,
     "metadata": {},
     "output_type": "execute_result"
    }
   ],
   "source": [
    "results, details = run_ode_solver(system, slope_func, events=event_func, max_step=0.1)\n",
    "details"
   ]
  },
  {
   "cell_type": "code",
   "execution_count": 13,
   "metadata": {},
   "outputs": [
    {
     "data": {
      "text/plain": [
       "0.5555880475250194"
      ]
     },
     "execution_count": 13,
     "metadata": {},
     "output_type": "execute_result"
    }
   ],
   "source": [
    "#How long the ball flew for\n",
    "flight_time = get_last_label(results)"
   ]
  },
  {
   "cell_type": "code",
   "execution_count": 14,
   "metadata": {},
   "outputs": [
    {
     "data": {
      "text/plain": [
       "18.44"
      ]
     },
     "execution_count": 14,
     "metadata": {},
     "output_type": "execute_result"
    }
   ],
   "source": [
    "#How far the ball flew\n",
    "x_dist = get_last_value(results.x)"
   ]
  },
  {
   "cell_type": "code",
   "execution_count": 15,
   "metadata": {},
   "outputs": [
    {
     "data": {
      "image/png": "[encoded data removed]",
      "text/plain": [
       "<Figure size 432x288 with 1 Axes>"
      ]
     },
     "metadata": {
      "needs_background": "light"
     },
     "output_type": "display_data"
    }
   ],
   "source": [
    "plot(results.x, label='x')\n",
    "plot(results.y, label='y')\n",
    "plot(results.z, label='z')\n",
    "\n",
    "decorate(xlabel='Time (s)',\n",
    "         ylabel='Position (m)')"
   ]
  },
  {
   "cell_type": "code",
   "execution_count": 16,
   "metadata": {},
   "outputs": [
    {
     "data": {
      "image/png": "[encoded data removed]",
      "text/plain": [
       "<Figure size 432x288 with 1 Axes>"
      ]
     },
     "metadata": {
      "needs_background": "light"
     },
     "output_type": "display_data"
    }
   ],
   "source": [
    "plot(results.vx, label='vx')\n",
    "plot(results.vy, label='vy')\n",
    "\n",
    "decorate(xlabel='Time (s)',\n",
    "         ylabel='Velocity (m/s)')"
   ]
  },
  {
   "cell_type": "code",
   "execution_count": 17,
   "metadata": {},
   "outputs": [
    {
     "data": {
      "image/png": "[encoded data removed]",
      "text/plain": [
       "<Figure size 432x288 with 1 Axes>"
      ]
     },
     "metadata": {
      "needs_background": "light"
     },
     "output_type": "display_data"
    }
   ],
   "source": [
    "def plot_trajectory(results):\n",
    "    plot(results.z, results.x, label='trajectory')\n",
    "\n",
    "    decorate(xlabel='z position (m)',\n",
    "             ylabel='x position (m)')\n",
    "    \n",
    "plot_trajectory(results)"
   ]
  },
  {
   "cell_type": "code",
   "execution_count": 18,
   "metadata": {},
   "outputs": [
    {
     "data": {
      "image/png": "[encoded data removed]",
      "text/plain": [
       "<Figure size 432x288 with 1 Axes>"
      ]
     },
     "metadata": {
      "needs_background": "light"
     },
     "output_type": "display_data"
    }
   ],
   "source": [
    "def plot_trajectory2(results):\n",
    "    plot(results.x, results.y, label='trajectory')\n",
    "\n",
    "    decorate(xlabel='x position (m)',\n",
    "             ylabel='y position (m)')\n",
    "    \n",
    "plot_trajectory2(results)"
   ]
  },
  {
   "cell_type": "code",
   "execution_count": 19,
   "metadata": {},
   "outputs": [],
   "source": [
    "def error_func_fsolve(xz_guess, params):\n",
    "    \n",
    "    print(xz_guess)\n",
    "    system = make_system(Params(params, angle_xz = xz_guess))\n",
    "    \n",
    "    results, details = run_ode_solver(system, slope_func, events = event_func)\n",
    "    \n",
    "    end = get_last_value(results.z)\n",
    "    \n",
    "    return end"
   ]
  },
  {
   "cell_type": "code",
   "execution_count": 20,
   "metadata": {},
   "outputs": [
    {
     "name": "stdout",
     "output_type": "stream",
     "text": [
      "10.5\n",
      "[10.5]\n",
      "[10.5]\n",
      "[10.5]\n",
      "[10.50000016]\n",
      "[10.49175679]\n",
      "[10.49175689]\n"
     ]
    },
    {
     "data": {
      "text/plain": [
       "array([10.49175689])"
      ]
     },
     "execution_count": 20,
     "metadata": {},
     "output_type": "execute_result"
    }
   ],
   "source": [
    "solution = fsolve(error_func_fsolve, 10.5, params)"
   ]
  },
  {
   "cell_type": "code",
   "execution_count": 21,
   "metadata": {},
   "outputs": [],
   "source": [
    "def error_func_fsolve_xy(xy_guess, params):\n",
    "    \n",
    "    print(xy_guess)\n",
    "    system = make_system(Params(params, angle_xy = xy_guess))\n",
    "    \n",
    "    results, details = run_ode_solver(system, slope_func, events = event_func)\n",
    "    \n",
    "    end = get_last_value(results.y)\n",
    "    \n",
    "    return end - 1"
   ]
  },
  {
   "cell_type": "code",
   "execution_count": 22,
   "metadata": {},
   "outputs": [
    {
     "name": "stdout",
     "output_type": "stream",
     "text": [
      "10\n",
      "[10]\n",
      "[10.]\n",
      "[10.]\n",
      "[10.00000015]\n",
      "[9.72462627]\n",
      "[9.72468867]\n",
      "[9.72468865]\n"
     ]
    },
    {
     "data": {
      "text/plain": [
       "array([9.72468865])"
      ]
     },
     "execution_count": 22,
     "metadata": {},
     "output_type": "execute_result"
    }
   ],
   "source": [
    "solutionxy = fsolve(error_func_fsolve_xy, 10, params)"
   ]
  },
  {
   "cell_type": "code",
   "execution_count": 27,
   "metadata": {},
   "outputs": [],
   "source": [
    "def run_optimal_simulation(params, solution, solutionxy):\n",
    "    system = make_system(Params(params, angle_xy = solutionxy, angle_xz = solution))\n",
    "    \n",
    "    results, details = run_ode_solver(system, slope_func, events = event_func, max_step = 0.05)\n",
    "    \n",
    "    return results"
   ]
  },
  {
   "cell_type": "code",
   "execution_count": 28,
   "metadata": {},
   "outputs": [
    {
     "data": {
      "text/html": [
       "<div>\n",
       "<style scoped>\n",
       "    .dataframe tbody tr th:only-of-type {\n",
       "        vertical-align: middle;\n",
       "    }\n",
       "\n",
       "    .dataframe tbody tr th {\n",
       "        vertical-align: top;\n",
       "    }\n",
       "\n",
       "    .dataframe thead th {\n",
       "        text-align: right;\n",
       "    }\n",
       "</style>\n",
       "<table border=\"1\" class=\"dataframe\">\n",
       "  <thead>\n",
       "    <tr style=\"text-align: right;\">\n",
       "      <th></th>\n",
       "      <th>x</th>\n",
       "      <th>y</th>\n",
       "      <th>z</th>\n",
       "      <th>vx</th>\n",
       "      <th>vy</th>\n",
       "      <th>vz</th>\n",
       "    </tr>\n",
       "  </thead>\n",
       "  <tbody>\n",
       "    <tr>\n",
       "      <th>0.000000</th>\n",
       "      <td>0.000000</td>\n",
       "      <td>1.700000</td>\n",
       "      <td>0.000000</td>\n",
       "      <td>33.881558</td>\n",
       "      <td>5.905237</td>\n",
       "      <td>6.274534</td>\n",
       "    </tr>\n",
       "    <tr>\n",
       "      <th>0.000058</th>\n",
       "      <td>0.001966</td>\n",
       "      <td>1.700343</td>\n",
       "      <td>0.000364</td>\n",
       "      <td>33.881412</td>\n",
       "      <td>5.903652</td>\n",
       "      <td>6.273130</td>\n",
       "    </tr>\n",
       "    <tr>\n",
       "      <th>0.000638</th>\n",
       "      <td>0.021627</td>\n",
       "      <td>1.703764</td>\n",
       "      <td>0.004000</td>\n",
       "      <td>33.879950</td>\n",
       "      <td>5.887801</td>\n",
       "      <td>6.259090</td>\n",
       "    </tr>\n",
       "    <tr>\n",
       "      <th>0.006441</th>\n",
       "      <td>0.218185</td>\n",
       "      <td>1.737470</td>\n",
       "      <td>0.039914</td>\n",
       "      <td>33.865351</td>\n",
       "      <td>5.729499</td>\n",
       "      <td>6.118928</td>\n",
       "    </tr>\n",
       "    <tr>\n",
       "      <th>0.056441</th>\n",
       "      <td>1.908338</td>\n",
       "      <td>1.990108</td>\n",
       "      <td>0.315966</td>\n",
       "      <td>33.741309</td>\n",
       "      <td>4.380337</td>\n",
       "      <td>4.928019</td>\n",
       "    </tr>\n",
       "    <tr>\n",
       "      <th>0.106441</th>\n",
       "      <td>3.592363</td>\n",
       "      <td>2.175912</td>\n",
       "      <td>0.533171</td>\n",
       "      <td>33.620110</td>\n",
       "      <td>3.055630</td>\n",
       "      <td>3.764407</td>\n",
       "    </tr>\n",
       "    <tr>\n",
       "      <th>0.156441</th>\n",
       "      <td>5.270390</td>\n",
       "      <td>2.296031</td>\n",
       "      <td>0.692799</td>\n",
       "      <td>33.501363</td>\n",
       "      <td>1.752524</td>\n",
       "      <td>2.624339</td>\n",
       "    </tr>\n",
       "    <tr>\n",
       "      <th>0.206441</th>\n",
       "      <td>6.942534</td>\n",
       "      <td>2.351480</td>\n",
       "      <td>0.795938</td>\n",
       "      <td>33.384703</td>\n",
       "      <td>0.468375</td>\n",
       "      <td>1.504300</td>\n",
       "    </tr>\n",
       "    <tr>\n",
       "      <th>0.256441</th>\n",
       "      <td>8.608889</td>\n",
       "      <td>2.343144</td>\n",
       "      <td>0.843507</td>\n",
       "      <td>33.269785</td>\n",
       "      <td>-0.799264</td>\n",
       "      <td>0.400990</td>\n",
       "    </tr>\n",
       "    <tr>\n",
       "      <th>0.306441</th>\n",
       "      <td>10.269536</td>\n",
       "      <td>2.271791</td>\n",
       "      <td>0.836264</td>\n",
       "      <td>33.156287</td>\n",
       "      <td>-2.052658</td>\n",
       "      <td>-0.688684</td>\n",
       "    </tr>\n",
       "    <tr>\n",
       "      <th>0.356441</th>\n",
       "      <td>11.924537</td>\n",
       "      <td>2.138080</td>\n",
       "      <td>0.774818</td>\n",
       "      <td>33.043907</td>\n",
       "      <td>-3.293898</td>\n",
       "      <td>-1.767623</td>\n",
       "    </tr>\n",
       "    <tr>\n",
       "      <th>0.406441</th>\n",
       "      <td>13.573941</td>\n",
       "      <td>1.942571</td>\n",
       "      <td>0.659636</td>\n",
       "      <td>32.932363</td>\n",
       "      <td>-4.524914</td>\n",
       "      <td>-2.838544</td>\n",
       "    </tr>\n",
       "    <tr>\n",
       "      <th>0.456441</th>\n",
       "      <td>15.217783</td>\n",
       "      <td>1.685730</td>\n",
       "      <td>0.491054</td>\n",
       "      <td>32.821389</td>\n",
       "      <td>-5.747479</td>\n",
       "      <td>-3.903989</td>\n",
       "    </tr>\n",
       "    <tr>\n",
       "      <th>0.506441</th>\n",
       "      <td>16.856085</td>\n",
       "      <td>1.367937</td>\n",
       "      <td>0.269288</td>\n",
       "      <td>32.710737</td>\n",
       "      <td>-6.963218</td>\n",
       "      <td>-4.966332</td>\n",
       "    </tr>\n",
       "    <tr>\n",
       "      <th>0.554943</th>\n",
       "      <td>18.440000</td>\n",
       "      <td>1.001719</td>\n",
       "      <td>0.003446</td>\n",
       "      <td>32.603494</td>\n",
       "      <td>-8.137400</td>\n",
       "      <td>-5.995964</td>\n",
       "    </tr>\n",
       "  </tbody>\n",
       "</table>\n",
       "</div>"
      ],
      "text/plain": [
       "                  x         y         z         vx        vy        vz\n",
       "0.000000   0.000000  1.700000  0.000000  33.881558  5.905237  6.274534\n",
       "0.000058   0.001966  1.700343  0.000364  33.881412  5.903652  6.273130\n",
       "0.000638   0.021627  1.703764  0.004000  33.879950  5.887801  6.259090\n",
       "0.006441   0.218185  1.737470  0.039914  33.865351  5.729499  6.118928\n",
       "0.056441   1.908338  1.990108  0.315966  33.741309  4.380337  4.928019\n",
       "0.106441   3.592363  2.175912  0.533171  33.620110  3.055630  3.764407\n",
       "0.156441   5.270390  2.296031  0.692799  33.501363  1.752524  2.624339\n",
       "0.206441   6.942534  2.351480  0.795938  33.384703  0.468375  1.504300\n",
       "0.256441   8.608889  2.343144  0.843507  33.269785 -0.799264  0.400990\n",
       "0.306441  10.269536  2.271791  0.836264  33.156287 -2.052658 -0.688684\n",
       "0.356441  11.924537  2.138080  0.774818  33.043907 -3.293898 -1.767623\n",
       "0.406441  13.573941  1.942571  0.659636  32.932363 -4.524914 -2.838544\n",
       "0.456441  15.217783  1.685730  0.491054  32.821389 -5.747479 -3.903989\n",
       "0.506441  16.856085  1.367937  0.269288  32.710737 -6.963218 -4.966332\n",
       "0.554943  18.440000  1.001719  0.003446  32.603494 -8.137400 -5.995964"
      ]
     },
     "execution_count": 28,
     "metadata": {},
     "output_type": "execute_result"
    }
   ],
   "source": [
    "results = run_optimal_simulation(params, solution, solutionxy)"
   ]
  },
  {
   "cell_type": "code",
   "execution_count": 29,
   "metadata": {},
   "outputs": [
    {
     "data": {
      "image/png": "[encoded data removed]",
      "text/plain": [
       "<Figure size 432x288 with 1 Axes>"
      ]
     },
     "metadata": {
      "needs_background": "light"
     },
     "output_type": "display_data"
    }
   ],
   "source": [
    "plot_trajectory(results)"
   ]
  },
  {
   "cell_type": "code",
   "execution_count": 30,
   "metadata": {},
   "outputs": [
    {
     "data": {
      "image/png": "[encoded data removed]",
      "text/plain": [
       "<Figure size 432x288 with 1 Axes>"
      ]
     },
     "metadata": {
      "needs_background": "light"
     },
     "output_type": "display_data"
    }
   ],
   "source": [
    "plot_trajectory2(results)"
   ]
  },
  {
   "cell_type": "code",
   "execution_count": null,
   "metadata": {},
   "outputs": [],
   "source": []
  }
 ],
 "metadata": {
  "kernelspec": {
   "display_name": "Python 3",
   "language": "python",
   "name": "python3"
  },
  "language_info": {
   "codemirror_mode": {
    "name": "ipython",
    "version": 3
   },
   "file_extension": ".py",
   "mimetype": "text/x-python",
   "name": "python",
   "nbconvert_exporter": "python",
   "pygments_lexer": "ipython3",
   "version": "3.6.6"
  }
 },
 "nbformat": 4,
 "nbformat_minor": 2
}
