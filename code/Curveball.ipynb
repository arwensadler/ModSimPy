{
 "cells": [
  {
   "cell_type": "markdown",
   "metadata": {},
   "source": [
    "# Simulating the Physics of a Curveball\n",
    "Arwen Sadler and Leila Merzenich"
   ]
  },
  {
   "cell_type": "code",
   "execution_count": 1,
   "metadata": {},
   "outputs": [],
   "source": [
    "# Configure Jupyter so figures appear in the notebook\n",
    "%matplotlib inline\n",
    "\n",
    "# Configure Jupyter to display the assigned value after an assignment\n",
    "%config InteractiveShell.ast_node_interactivity='last_expr_or_assign'\n",
    "\n",
    "# import functions from the modsim.py module\n",
    "from modsim import *"
   ]
  },
  {
   "cell_type": "markdown",
   "metadata": {},
   "source": [
    "For this project, we wanted to make a simulation modeling the behavior of a curveball.\n",
    "\n",
    "According to [the MLB website](https://www.mlb.com/news/statcast-spin-rate-compared-to-velocity/c-160896926), the average speed of a curveball in the 2015 season was 78.2 mph, or about 34.96 m/s, and that the average rpm was 2,308.\n",
    "\n",
    "We estimated the height at which the ball leaves the pitcher's hand by watching slow-motion videos of curveball pitches and using the pitcher's height as a reference.\n",
    "\n",
    "We found the angle of throw by sweeping angles between 0 and 5 degrees through a function that returned the final height of the ball when it reaches home plate, knowing that we wanted the height to be in the center of the strike zone (about 0.93 m)."
   ]
  },
  {
   "cell_type": "code",
   "execution_count": 2,
   "metadata": {},
   "outputs": [
    {
     "data": {
      "text/html": [
       "<div>\n",
       "<style scoped>\n",
       "    .dataframe tbody tr th:only-of-type {\n",
       "        vertical-align: middle;\n",
       "    }\n",
       "\n",
       "    .dataframe tbody tr th {\n",
       "        vertical-align: top;\n",
       "    }\n",
       "\n",
       "    .dataframe thead th {\n",
       "        text-align: right;\n",
       "    }\n",
       "</style>\n",
       "<table border=\"1\" class=\"dataframe\">\n",
       "  <thead>\n",
       "    <tr style=\"text-align: right;\">\n",
       "      <th></th>\n",
       "      <th>values</th>\n",
       "    </tr>\n",
       "  </thead>\n",
       "  <tbody>\n",
       "    <tr>\n",
       "      <th>x</th>\n",
       "      <td>0.000000</td>\n",
       "    </tr>\n",
       "    <tr>\n",
       "      <th>y</th>\n",
       "      <td>1.700000</td>\n",
       "    </tr>\n",
       "    <tr>\n",
       "      <th>z</th>\n",
       "      <td>0.000000</td>\n",
       "    </tr>\n",
       "    <tr>\n",
       "      <th>g</th>\n",
       "      <td>9.800000</td>\n",
       "    </tr>\n",
       "    <tr>\n",
       "      <th>mass</th>\n",
       "      <td>0.145000</td>\n",
       "    </tr>\n",
       "    <tr>\n",
       "      <th>diameter</th>\n",
       "      <td>0.073000</td>\n",
       "    </tr>\n",
       "    <tr>\n",
       "      <th>rho</th>\n",
       "      <td>1.200000</td>\n",
       "    </tr>\n",
       "    <tr>\n",
       "      <th>C_d</th>\n",
       "      <td>0.330000</td>\n",
       "    </tr>\n",
       "    <tr>\n",
       "      <th>angle</th>\n",
       "      <td>2.170000</td>\n",
       "    </tr>\n",
       "    <tr>\n",
       "      <th>angle_rot</th>\n",
       "      <td>35.000000</td>\n",
       "    </tr>\n",
       "    <tr>\n",
       "      <th>velocity</th>\n",
       "      <td>34.960000</td>\n",
       "    </tr>\n",
       "    <tr>\n",
       "      <th>rps</th>\n",
       "      <td>38.466667</td>\n",
       "    </tr>\n",
       "    <tr>\n",
       "      <th>t_end</th>\n",
       "      <td>10.000000</td>\n",
       "    </tr>\n",
       "  </tbody>\n",
       "</table>\n",
       "</div>"
      ],
      "text/plain": [
       "x             0.000000\n",
       "y             1.700000\n",
       "z             0.000000\n",
       "g             9.800000\n",
       "mass          0.145000\n",
       "diameter      0.073000\n",
       "rho           1.200000\n",
       "C_d           0.330000\n",
       "angle         2.170000\n",
       "angle_rot    35.000000\n",
       "velocity     34.960000\n",
       "rps          38.466667\n",
       "t_end        10.000000\n",
       "dtype: float64"
      ]
     },
     "execution_count": 2,
     "metadata": {},
     "output_type": "execute_result"
    }
   ],
   "source": [
    "params = Params(x = 0, \n",
    "                y = 1.7,\n",
    "                z = 0, # A line connecting the mound to home plate\n",
    "                g = 9.8, #gravity\n",
    "                mass = 145e-3,\n",
    "                diameter = 73e-3,\n",
    "                rho = 1.2,\n",
    "                C_d = 0.33,\n",
    "                angle = 2.17, #angle of throw b/w x and y axes\n",
    "                angle_rot = 35, #angle of rotation b/w y and z axes\n",
    "                velocity = 34.96,\n",
    "                rps = 2308 / 60,\n",
    "                t_end = 10)"
   ]
  },
  {
   "cell_type": "code",
   "execution_count": 3,
   "metadata": {},
   "outputs": [],
   "source": [
    "def make_system(params):\n",
    "    \"\"\"Make a system object.\n",
    "    \n",
    "    params: Params object with angle, velocity, x, y,\n",
    "               diameter, duration, g, mass, rho, and C_d\n",
    "               \n",
    "    returns: System object\n",
    "    \"\"\"\n",
    "    unpack(params)\n",
    "    \n",
    "    # convert angle to radians\n",
    "    theta = np.deg2rad(angle)\n",
    "    \n",
    "    # compute x and y components of velocity\n",
    "    vx, vy = pol2cart(theta, velocity)\n",
    "    \n",
    "    # compute the z component of velocity--presumably the pitcher throws the ball straight\n",
    "    vz = 0 \n",
    "    \n",
    "    # make the initial state\n",
    "    init = State(x=x, y=y, z=z, vx=vx, vy=vy, vz=vz)\n",
    "    \n",
    "    # compute area from diameter\n",
    "    area = np.pi * (diameter/2)**2\n",
    "    \n",
    "    return System(params, init=init, area=area)"
   ]
  },
  {
   "cell_type": "code",
   "execution_count": 4,
   "metadata": {},
   "outputs": [
    {
     "data": {
      "text/html": [
       "<div>\n",
       "<style scoped>\n",
       "    .dataframe tbody tr th:only-of-type {\n",
       "        vertical-align: middle;\n",
       "    }\n",
       "\n",
       "    .dataframe tbody tr th {\n",
       "        vertical-align: top;\n",
       "    }\n",
       "\n",
       "    .dataframe thead th {\n",
       "        text-align: right;\n",
       "    }\n",
       "</style>\n",
       "<table border=\"1\" class=\"dataframe\">\n",
       "  <thead>\n",
       "    <tr style=\"text-align: right;\">\n",
       "      <th></th>\n",
       "      <th>values</th>\n",
       "    </tr>\n",
       "  </thead>\n",
       "  <tbody>\n",
       "    <tr>\n",
       "      <th>x</th>\n",
       "      <td>0</td>\n",
       "    </tr>\n",
       "    <tr>\n",
       "      <th>y</th>\n",
       "      <td>1.7</td>\n",
       "    </tr>\n",
       "    <tr>\n",
       "      <th>z</th>\n",
       "      <td>0</td>\n",
       "    </tr>\n",
       "    <tr>\n",
       "      <th>g</th>\n",
       "      <td>9.8</td>\n",
       "    </tr>\n",
       "    <tr>\n",
       "      <th>mass</th>\n",
       "      <td>0.145</td>\n",
       "    </tr>\n",
       "    <tr>\n",
       "      <th>diameter</th>\n",
       "      <td>0.073</td>\n",
       "    </tr>\n",
       "    <tr>\n",
       "      <th>rho</th>\n",
       "      <td>1.2</td>\n",
       "    </tr>\n",
       "    <tr>\n",
       "      <th>C_d</th>\n",
       "      <td>0.33</td>\n",
       "    </tr>\n",
       "    <tr>\n",
       "      <th>angle</th>\n",
       "      <td>2.17</td>\n",
       "    </tr>\n",
       "    <tr>\n",
       "      <th>angle_rot</th>\n",
       "      <td>35</td>\n",
       "    </tr>\n",
       "    <tr>\n",
       "      <th>velocity</th>\n",
       "      <td>34.96</td>\n",
       "    </tr>\n",
       "    <tr>\n",
       "      <th>rps</th>\n",
       "      <td>38.4667</td>\n",
       "    </tr>\n",
       "    <tr>\n",
       "      <th>t_end</th>\n",
       "      <td>10</td>\n",
       "    </tr>\n",
       "    <tr>\n",
       "      <th>init</th>\n",
       "      <td>x      0.000000\n",
       "y      1.700000\n",
       "z      0.00000...</td>\n",
       "    </tr>\n",
       "    <tr>\n",
       "      <th>area</th>\n",
       "      <td>0.00418539</td>\n",
       "    </tr>\n",
       "  </tbody>\n",
       "</table>\n",
       "</div>"
      ],
      "text/plain": [
       "x                                                            0\n",
       "y                                                          1.7\n",
       "z                                                            0\n",
       "g                                                          9.8\n",
       "mass                                                     0.145\n",
       "diameter                                                 0.073\n",
       "rho                                                        1.2\n",
       "C_d                                                       0.33\n",
       "angle                                                     2.17\n",
       "angle_rot                                                   35\n",
       "velocity                                                 34.96\n",
       "rps                                                    38.4667\n",
       "t_end                                                       10\n",
       "init         x      0.000000\n",
       "y      1.700000\n",
       "z      0.00000...\n",
       "area                                                0.00418539\n",
       "dtype: object"
      ]
     },
     "execution_count": 4,
     "metadata": {},
     "output_type": "execute_result"
    }
   ],
   "source": [
    "system = make_system(params)"
   ]
  },
  {
   "cell_type": "code",
   "execution_count": 5,
   "metadata": {},
   "outputs": [],
   "source": [
    "def drag_force(v, system):\n",
    "    \"\"\"Computes drag force in the opposite direction of `v`.\n",
    "    \n",
    "    v: velocity Vector\n",
    "    system: System object with rho, C_d, area\n",
    "    \n",
    "    returns: Vector drag force\n",
    "    \"\"\"\n",
    "    unpack(system)\n",
    "    mag = rho * v.mag**2 * C_d * area / 2\n",
    "    direction = -v.hat()\n",
    "    f_drag = direction * mag\n",
    "    return f_drag"
   ]
  },
  {
   "cell_type": "code",
   "execution_count": 6,
   "metadata": {},
   "outputs": [
    {
     "data": {
      "text/html": [
       "[-0.11719681 -0.11719681] dimensionless"
      ],
      "text/latex": [
       "$[-0.11719681 -0.11719681] dimensionless$"
      ],
      "text/plain": [
       "<Quantity([-0.11719681 -0.11719681], 'dimensionless')>"
      ]
     },
     "execution_count": 6,
     "metadata": {},
     "output_type": "execute_result"
    }
   ],
   "source": [
    "v_test = Vector(10, 10)\n",
    "drag_force(v_test, system)"
   ]
  },
  {
   "cell_type": "markdown",
   "metadata": {},
   "source": [
    "Magnus Force also effects the path of the ball. According to NASA, the lift on a sphere caused by Magnus Force is:\n",
    "\n",
    "L = 16/3 (pi^2 * r^3 * s * rho * V)\n",
    "\n",
    "Where s is the angular velocity of the ball, r is the radius of the ball, rho is the density of the air, and V is the velocity of the air in comparison to the velocity of the ball."
   ]
  },
  {
   "cell_type": "code",
   "execution_count": 7,
   "metadata": {},
   "outputs": [],
   "source": [
    "def mag_force(v, system):\n",
    "    \"\"\"Computes drag force in the opposite direction of `v`.\n",
    "    \n",
    "    v: velocity Vector\n",
    "    system: System object with rho, C_d, area\n",
    "    \n",
    "    returns: Vector drag force\n",
    "    \"\"\"\n",
    "    unpack(system)\n",
    "    \n",
    "    # convert angle_rot to radians\n",
    "    theta_rot = np.deg2rad(angle_rot)\n",
    "    \n",
    "    # compute magnus force direction\n",
    "    lz, ly = pol2cart(theta_rot, 1)\n",
    "    \n",
    "    s = Vector(0, ly, lz)\n",
    "    \n",
    "    mag = 16/3 * (np.pi**2 * (diameter/2)**3 * rps * rho * v.mag) #Assuming air velocity is 0\n",
    "    direction = s.hat()#the direction it's rotating, a unit vector in the system\n",
    "    L = direction * mag\n",
    "    print('mag_force is being called!')\n",
    "    print(mag)\n",
    "    return L"
   ]
  },
  {
   "cell_type": "code",
   "execution_count": 8,
   "metadata": {},
   "outputs": [],
   "source": [
    "def slope_func(state, t, system):\n",
    "    \"\"\"Computes derivatives of the state variables.\n",
    "    \n",
    "    state: State (x, y, x velocity, y velocity)\n",
    "    t: time\n",
    "    system: System object with g, rho, C_d, area, mass\n",
    "    \n",
    "    returns: sequence (vx, vy, ax, ay)\n",
    "    \"\"\"\n",
    "    x, y, z, vx, vy, vz = state\n",
    "    unpack(system)\n",
    "\n",
    "    v = Vector(vx, vy, vz)    \n",
    "    a_drag = drag_force(v, system) / mass\n",
    "    a_grav = Vector(0, -g, 0)\n",
    "    a_mag = mag_force(v, system) / mass\n",
    "    \n",
    "    a = a_grav + a_drag + a_mag\n",
    "    \n",
    "    return vx, vy, vz, a.x, a.y, a.z"
   ]
  },
  {
   "cell_type": "code",
   "execution_count": 9,
   "metadata": {},
   "outputs": [
    {
     "name": "stdout",
     "output_type": "stream",
     "text": [
      "mag_force is being called!\n",
      "4.130610938690735 dimensionless\n"
     ]
    },
    {
     "data": {
      "text/plain": [
       "(34.93492945832622,\n",
       " 1.323746101701759,\n",
       " 0.0,\n",
       " <Quantity(-6.980139211380874, 'dimensionless')>,\n",
       " <Quantity(6.274966089466005, 'dimensionless')>,\n",
       " <Quantity(23.33516134200681, 'dimensionless')>)"
      ]
     },
     "execution_count": 9,
     "metadata": {},
     "output_type": "execute_result"
    }
   ],
   "source": [
    "slope_func(system.init, 0, system)"
   ]
  },
  {
   "cell_type": "code",
   "execution_count": 10,
   "metadata": {},
   "outputs": [],
   "source": [
    "def event_func(state, t, system):\n",
    "    \"\"\"Stop when the y coordinate is 0.\n",
    "    \n",
    "    state: State object\n",
    "    t: time\n",
    "    system: System object\n",
    "    \n",
    "    returns: y coordinate\n",
    "    \"\"\"\n",
    "    x, y, z, vx, vy, vz = state\n",
    "    return x - 18.44"
   ]
  },
  {
   "cell_type": "code",
   "execution_count": 11,
   "metadata": {},
   "outputs": [
    {
     "data": {
      "text/plain": [
       "-18.44"
      ]
     },
     "execution_count": 11,
     "metadata": {},
     "output_type": "execute_result"
    }
   ],
   "source": [
    "event_func(system.init, 0, system)"
   ]
  },
  {
   "cell_type": "code",
   "execution_count": 12,
   "metadata": {},
   "outputs": [
    {
     "name": "stdout",
     "output_type": "stream",
     "text": [
      "mag_force is being called!\n",
      "4.130610938690735 dimensionless\n",
      "mag_force is being called!\n",
      "4.130610610643828 dimensionless\n",
      "mag_force is being called!\n",
      "4.130604377816637 dimensionless\n",
      "mag_force is being called!\n",
      "4.130601097453374 dimensionless\n",
      "mag_force is being called!\n",
      "4.13058469616841 dimensionless\n",
      "mag_force is being called!\n",
      "4.1305817804861364 dimensionless\n",
      "mag_force is being called!\n",
      "4.130578135926477 dimensionless\n",
      "mag_force is being called!\n",
      "4.13057813592648 dimensionless\n",
      "mag_force is being called!\n",
      "4.130512541025055 dimensionless\n",
      "mag_force is being called!\n",
      "4.130479750951871 dimensionless\n",
      "mag_force is being called!\n",
      "4.130315853712779 dimensionless\n",
      "mag_force is being called!\n",
      "4.130286726594335 dimensionless\n",
      "mag_force is being called!\n",
      "4.130250322014987 dimensionless\n",
      "mag_force is being called!\n",
      "4.130250322016732 dimensionless\n",
      "mag_force is being called!\n",
      "4.1295957568423285 dimensionless\n",
      "mag_force is being called!\n",
      "4.129269210891836 dimensionless\n",
      "mag_force is being called!\n",
      "4.127641785784678 dimensionless\n",
      "mag_force is being called!\n",
      "4.127353479225395 dimensionless\n",
      "mag_force is being called!\n",
      "4.1269935281359835 dimensionless\n",
      "mag_force is being called!\n",
      "4.1269935298623714 dimensionless\n",
      "mag_force is being called!\n",
      "4.12058614480759 dimensionless\n",
      "mag_force is being called!\n",
      "4.117455009184805 dimensionless\n",
      "mag_force is being called!\n",
      "4.102322000488122 dimensionless\n",
      "mag_force is being called!\n",
      "4.099729834687001 dimensionless\n",
      "mag_force is being called!\n",
      "4.0965329473312195 dimensionless\n",
      "mag_force is being called!\n",
      "4.096534474740803 dimensionless\n",
      "mag_force is being called!\n",
      "4.083064751845443 dimensionless\n",
      "mag_force is being called!\n",
      "4.076725372113293 dimensionless\n",
      "mag_force is being called!\n",
      "4.0479974370019915 dimensionless\n",
      "mag_force is being called!\n",
      "4.043430861282986 dimensionless\n",
      "mag_force is being called!\n",
      "4.037966013985414 dimensionless\n",
      "mag_force is being called!\n",
      "4.0379792488313555 dimensionless\n",
      "mag_force is being called!\n",
      "4.02875033857285 dimensionless\n",
      "mag_force is being called!\n",
      "4.0244783517086065 dimensionless\n",
      "mag_force is being called!\n",
      "4.0059710905857955 dimensionless\n",
      "mag_force is being called!\n",
      "4.003190064500425 dimensionless\n",
      "mag_force is being called!\n",
      "3.999933870008731 dimensionless\n",
      "mag_force is being called!\n",
      "3.9999389865766224 dimensionless\n",
      "mag_force is being called!\n",
      "3.9946599183318026 dimensionless\n",
      "mag_force is being called!\n",
      "3.9923220504857184 dimensionless\n",
      "mag_force is being called!\n",
      "3.9833723591197754 dimensionless\n",
      "mag_force is being called!\n",
      "3.982262120800549 dimensionless\n",
      "mag_force is being called!\n",
      "3.981077168955642 dimensionless\n",
      "mag_force is being called!\n",
      "3.9810779294156244 dimensionless\n",
      "mag_force is being called!\n",
      "3.979502237584442 dimensionless\n",
      "mag_force is being called!\n",
      "3.9789854709695645 dimensionless\n",
      "mag_force is being called!\n",
      "3.979030912966504 dimensionless\n",
      "mag_force is being called!\n",
      "3.979494518598546 dimensionless\n",
      "mag_force is being called!\n",
      "3.9802639566239013 dimensionless\n",
      "mag_force is being called!\n",
      "3.9802627820685865 dimensionless\n",
      "mag_force is being called!\n",
      "3.982180896959403 dimensionless\n",
      "mag_force is being called!\n",
      "3.9833889381990177 dimensionless\n",
      "mag_force is being called!\n",
      "3.99195028822039 dimensionless\n",
      "mag_force is being called!\n",
      "3.993905439627005 dimensionless\n",
      "mag_force is being called!\n",
      "3.996529392058051 dimensionless\n",
      "mag_force is being called!\n",
      "3.9965276971875294 dimensionless\n",
      "mag_force is being called!\n",
      "4.001760539248213 dimensionless\n",
      "mag_force is being called!\n",
      "4.004610835735415 dimensionless\n",
      "mag_force is being called!\n",
      "4.021277319222046 dimensionless\n",
      "mag_force is being called!\n",
      "4.024653679311993 dimensionless\n",
      "mag_force is being called!\n",
      "4.029046211136071 dimensionless\n",
      "mag_force is being called!\n",
      "4.029044680777101 dimensionless\n"
     ]
    },
    {
     "data": {
      "text/html": [
       "<div>\n",
       "<style scoped>\n",
       "    .dataframe tbody tr th:only-of-type {\n",
       "        vertical-align: middle;\n",
       "    }\n",
       "\n",
       "    .dataframe tbody tr th {\n",
       "        vertical-align: top;\n",
       "    }\n",
       "\n",
       "    .dataframe thead th {\n",
       "        text-align: right;\n",
       "    }\n",
       "</style>\n",
       "<table border=\"1\" class=\"dataframe\">\n",
       "  <thead>\n",
       "    <tr style=\"text-align: right;\">\n",
       "      <th></th>\n",
       "      <th>values</th>\n",
       "    </tr>\n",
       "  </thead>\n",
       "  <tbody>\n",
       "    <tr>\n",
       "      <th>sol</th>\n",
       "      <td>None</td>\n",
       "    </tr>\n",
       "    <tr>\n",
       "      <th>t_events</th>\n",
       "      <td>[[0.5570759243414372]]</td>\n",
       "    </tr>\n",
       "    <tr>\n",
       "      <th>nfev</th>\n",
       "      <td>62</td>\n",
       "    </tr>\n",
       "    <tr>\n",
       "      <th>njev</th>\n",
       "      <td>0</td>\n",
       "    </tr>\n",
       "    <tr>\n",
       "      <th>nlu</th>\n",
       "      <td>0</td>\n",
       "    </tr>\n",
       "    <tr>\n",
       "      <th>status</th>\n",
       "      <td>1</td>\n",
       "    </tr>\n",
       "    <tr>\n",
       "      <th>message</th>\n",
       "      <td>A termination event occurred.</td>\n",
       "    </tr>\n",
       "    <tr>\n",
       "      <th>success</th>\n",
       "      <td>True</td>\n",
       "    </tr>\n",
       "  </tbody>\n",
       "</table>\n",
       "</div>"
      ],
      "text/plain": [
       "sol                                  None\n",
       "t_events           [[0.5570759243414372]]\n",
       "nfev                                   62\n",
       "njev                                    0\n",
       "nlu                                     0\n",
       "status                                  1\n",
       "message     A termination event occurred.\n",
       "success                              True\n",
       "dtype: object"
      ]
     },
     "execution_count": 12,
     "metadata": {},
     "output_type": "execute_result"
    }
   ],
   "source": [
    "results, details = run_ode_solver(system, slope_func, events=event_func, max_step=0.1)\n",
    "details"
   ]
  },
  {
   "cell_type": "code",
   "execution_count": 13,
   "metadata": {},
   "outputs": [
    {
     "data": {
      "text/plain": [
       "0.5570759243414372"
      ]
     },
     "execution_count": 13,
     "metadata": {},
     "output_type": "execute_result"
    }
   ],
   "source": [
    "#How long the ball flew for\n",
    "flight_time = get_last_label(results)"
   ]
  },
  {
   "cell_type": "code",
   "execution_count": 14,
   "metadata": {},
   "outputs": [
    {
     "data": {
      "text/plain": [
       "18.44"
      ]
     },
     "execution_count": 14,
     "metadata": {},
     "output_type": "execute_result"
    }
   ],
   "source": [
    "#How far the ball flew\n",
    "x_dist = get_last_value(results.x)"
   ]
  },
  {
   "cell_type": "code",
   "execution_count": 15,
   "metadata": {},
   "outputs": [
    {
     "data": {
      "image/png": "[encoded data removed]",
      "text/plain": [
       "<Figure size 432x288 with 1 Axes>"
      ]
     },
     "metadata": {
      "needs_background": "light"
     },
     "output_type": "display_data"
    }
   ],
   "source": [
    "plot(results.x, label='x')\n",
    "plot(results.y, label='y')\n",
    "\n",
    "decorate(xlabel='Time (s)',\n",
    "         ylabel='Position (m)')"
   ]
  },
  {
   "cell_type": "code",
   "execution_count": 16,
   "metadata": {},
   "outputs": [
    {
     "data": {
      "image/png": "[encoded data removed]",
      "text/plain": [
       "<Figure size 432x288 with 1 Axes>"
      ]
     },
     "metadata": {
      "needs_background": "light"
     },
     "output_type": "display_data"
    }
   ],
   "source": [
    "plot(results.vx, label='vx')\n",
    "plot(results.vy, label='vy')\n",
    "\n",
    "decorate(xlabel='Time (s)',\n",
    "         ylabel='Velocity (m/s)')"
   ]
  },
  {
   "cell_type": "code",
   "execution_count": 17,
   "metadata": {},
   "outputs": [
    {
     "data": {
      "image/png": "[encoded data removed]",
      "text/plain": [
       "<Figure size 432x288 with 1 Axes>"
      ]
     },
     "metadata": {
      "needs_background": "light"
     },
     "output_type": "display_data"
    }
   ],
   "source": [
    "def plot_trajectory(results):\n",
    "    plot(results.x, results.z, label='trajectory')\n",
    "\n",
    "    decorate(xlabel='x position (m)',\n",
    "             ylabel='z position (m)')\n",
    "    \n",
    "plot_trajectory(results)"
   ]
  },
  {
   "cell_type": "code",
   "execution_count": 18,
   "metadata": {},
   "outputs": [
    {
     "data": {
      "text/plain": [
       "3.4146486982246405"
      ]
     },
     "execution_count": 18,
     "metadata": {},
     "output_type": "execute_result"
    }
   ],
   "source": [
    "np.amax(results.z)"
   ]
  },
  {
   "cell_type": "code",
   "execution_count": 19,
   "metadata": {},
   "outputs": [
    {
     "data": {
      "text/plain": [
       "0.0"
      ]
     },
     "execution_count": 19,
     "metadata": {},
     "output_type": "execute_result"
    }
   ],
   "source": [
    "np.amin(results.z)"
   ]
  },
  {
   "cell_type": "code",
   "execution_count": null,
   "metadata": {},
   "outputs": [],
   "source": []
  }
 ],
 "metadata": {
  "kernelspec": {
   "display_name": "Python 3",
   "language": "python",
   "name": "python3"
  },
  "language_info": {
   "codemirror_mode": {
    "name": "ipython",
    "version": 3
   },
   "file_extension": ".py",
   "mimetype": "text/x-python",
   "name": "python",
   "nbconvert_exporter": "python",
   "pygments_lexer": "ipython3",
   "version": "3.6.6"
  }
 },
 "nbformat": 4,
 "nbformat_minor": 2
}
