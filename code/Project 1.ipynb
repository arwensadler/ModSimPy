{
 "cells": [
  {
   "cell_type": "markdown",
   "metadata": {},
   "source": [
    "# ModSim Project 1\n",
    "\n",
    "### Arwen Sadler and Robin Graham-Hayes"
   ]
  },
  {
   "cell_type": "code",
   "execution_count": 8,
   "metadata": {},
   "outputs": [],
   "source": [
    "# Configure Jupyter so figures appear in the notebook\n",
    "%matplotlib inline\n",
    "\n",
    "# Configure Jupyter to display the assigned value after an assignment\n",
    "%config InteractiveShell.ast_node_interactivity='last_expr_or_assign'\n",
    "\n",
    "# import everything from modsim\n",
    "from modsim import *\n",
    "\n",
    "# import everything from SymPy.\n",
    "from sympy import *\n",
    "\n",
    "#Import read_csv function from pandas\n",
    "from pandas import read_csv"
   ]
  },
  {
   "cell_type": "markdown",
   "metadata": {},
   "source": [
    "#### Assuming current trends hold, when will the Steller Sea Lion population regrow to a sustainable size?\n",
    "\n",
    "Steller Sea Lions are carnivorous marine mammals that are defined as \"Near Threatened,\" having been taken off the endangered species list in 2013. It's estimated that their population fell from 70-80% after the 70s, but their population made a comeback in the 00s. It would be useful to have a model projecting what the population will look like in the future to determine when/if their population will regrow to its former size, and also to determine if the population will trend toward threatened or endangered again.\n",
    "\n",
    "Based on the NOAA's (The National Oceanic and Atmospheric Administration) data, we chose to make an exponential growth curve with a yearly growth of about 2%.\n",
    "\n",
    "The NOAA has population data for Steller Sea Lions from 1995 to 2017:"
   ]
  },
  {
   "cell_type": "code",
   "execution_count": 13,
   "metadata": {
    "scrolled": true
   },
   "outputs": [
    {
     "data": {
      "text/html": [
       "<div>\n",
       "<style scoped>\n",
       "    .dataframe tbody tr th:only-of-type {\n",
       "        vertical-align: middle;\n",
       "    }\n",
       "\n",
       "    .dataframe tbody tr th {\n",
       "        vertical-align: top;\n",
       "    }\n",
       "\n",
       "    .dataframe thead th {\n",
       "        text-align: right;\n",
       "    }\n",
       "</style>\n",
       "<table border=\"1\" class=\"dataframe\">\n",
       "  <thead>\n",
       "    <tr style=\"text-align: right;\">\n",
       "      <th></th>\n",
       "      <th>StellarSeaLion</th>\n",
       "    </tr>\n",
       "    <tr>\n",
       "      <th>Year</th>\n",
       "      <th></th>\n",
       "    </tr>\n",
       "  </thead>\n",
       "  <tbody>\n",
       "    <tr>\n",
       "      <th>1995</th>\n",
       "      <td>67100</td>\n",
       "    </tr>\n",
       "    <tr>\n",
       "      <th>1996</th>\n",
       "      <td>80946</td>\n",
       "    </tr>\n",
       "    <tr>\n",
       "      <th>1998</th>\n",
       "      <td>69903</td>\n",
       "    </tr>\n",
       "    <tr>\n",
       "      <th>1999</th>\n",
       "      <td>69434</td>\n",
       "    </tr>\n",
       "    <tr>\n",
       "      <th>2000</th>\n",
       "      <td>69434</td>\n",
       "    </tr>\n",
       "    <tr>\n",
       "      <th>2001</th>\n",
       "      <td>65605</td>\n",
       "    </tr>\n",
       "    <tr>\n",
       "      <th>2003</th>\n",
       "      <td>65803</td>\n",
       "    </tr>\n",
       "    <tr>\n",
       "      <th>2005</th>\n",
       "      <td>83509</td>\n",
       "    </tr>\n",
       "    <tr>\n",
       "      <th>2006</th>\n",
       "      <td>86873</td>\n",
       "    </tr>\n",
       "    <tr>\n",
       "      <th>2007</th>\n",
       "      <td>87507</td>\n",
       "    </tr>\n",
       "    <tr>\n",
       "      <th>2008</th>\n",
       "      <td>89452</td>\n",
       "    </tr>\n",
       "    <tr>\n",
       "      <th>2009</th>\n",
       "      <td>91661</td>\n",
       "    </tr>\n",
       "    <tr>\n",
       "      <th>2010</th>\n",
       "      <td>107645</td>\n",
       "    </tr>\n",
       "    <tr>\n",
       "      <th>2011</th>\n",
       "      <td>107565</td>\n",
       "    </tr>\n",
       "    <tr>\n",
       "      <th>2012</th>\n",
       "      <td>111195</td>\n",
       "    </tr>\n",
       "    <tr>\n",
       "      <th>2013</th>\n",
       "      <td>116338</td>\n",
       "    </tr>\n",
       "    <tr>\n",
       "      <th>2014</th>\n",
       "      <td>122422</td>\n",
       "    </tr>\n",
       "    <tr>\n",
       "      <th>2015</th>\n",
       "      <td>116497</td>\n",
       "    </tr>\n",
       "    <tr>\n",
       "      <th>2016</th>\n",
       "      <td>92621</td>\n",
       "    </tr>\n",
       "    <tr>\n",
       "      <th>2017</th>\n",
       "      <td>94941</td>\n",
       "    </tr>\n",
       "  </tbody>\n",
       "</table>\n",
       "</div>"
      ],
      "text/plain": [
       "      StellarSeaLion\n",
       "Year                \n",
       "1995           67100\n",
       "1996           80946\n",
       "1998           69903\n",
       "1999           69434\n",
       "2000           69434\n",
       "2001           65605\n",
       "2003           65803\n",
       "2005           83509\n",
       "2006           86873\n",
       "2007           87507\n",
       "2008           89452\n",
       "2009           91661\n",
       "2010          107645\n",
       "2011          107565\n",
       "2012          111195\n",
       "2013          116338\n",
       "2014          122422\n",
       "2015          116497\n",
       "2016           92621\n",
       "2017           94941"
      ]
     },
     "execution_count": 13,
     "metadata": {},
     "output_type": "execute_result"
    }
   ],
   "source": [
    "#Read the csv file that contain data and set the index to be the column with the header, 'Year'\n",
    "data = read_csv('Sea_Lion_Data.csv', encoding = \"ISO-8859-1\", index_col = 'Year')"
   ]
  },
  {
   "cell_type": "markdown",
   "metadata": {},
   "source": [
    "Next, we define a function to update the population every year, based on the current population and an annual growth rate."
   ]
  },
  {
   "cell_type": "code",
   "execution_count": 14,
   "metadata": {},
   "outputs": [],
   "source": [
    "#Define a function that takes a system object \"system\"\n",
    "def run_simulation(system):\n",
    "    results = TimeSeries()    #Create a 'results' variable that is a TimeSeries\n",
    "    results[system.t_0] = system.p_0   #Initialize the TimeSeries at the first value in the data\n",
    "    for t in linrange(system.t_0, system.t_end):    #For each year in the data:\n",
    "        results[t+1] = system.annual_growth * results[t]    #Take the next year in the TimeSeries and set it equal to the annual growth * the current population size\n",
    "    return results    #Return the TimeSeries"
   ]
  },
  {
   "cell_type": "markdown",
   "metadata": {},
   "source": [
    "Next, we make the system object referenced in the simulation function."
   ]
  },
  {
   "cell_type": "code",
   "execution_count": 16,
   "metadata": {},
   "outputs": [
    {
     "data": {
      "text/html": [
       "<div>\n",
       "<style scoped>\n",
       "    .dataframe tbody tr th:only-of-type {\n",
       "        vertical-align: middle;\n",
       "    }\n",
       "\n",
       "    .dataframe tbody tr th {\n",
       "        vertical-align: top;\n",
       "    }\n",
       "\n",
       "    .dataframe thead th {\n",
       "        text-align: right;\n",
       "    }\n",
       "</style>\n",
       "<table border=\"1\" class=\"dataframe\">\n",
       "  <thead>\n",
       "    <tr style=\"text-align: right;\">\n",
       "      <th></th>\n",
       "      <th>values</th>\n",
       "    </tr>\n",
       "  </thead>\n",
       "  <tbody>\n",
       "    <tr>\n",
       "      <th>t_0</th>\n",
       "      <td>1995.000</td>\n",
       "    </tr>\n",
       "    <tr>\n",
       "      <th>t_end</th>\n",
       "      <td>2017.000</td>\n",
       "    </tr>\n",
       "    <tr>\n",
       "      <th>p_0</th>\n",
       "      <td>67100.000</td>\n",
       "    </tr>\n",
       "    <tr>\n",
       "      <th>annual_growth</th>\n",
       "      <td>1.023</td>\n",
       "    </tr>\n",
       "  </tbody>\n",
       "</table>\n",
       "</div>"
      ],
      "text/plain": [
       "t_0               1995.000\n",
       "t_end             2017.000\n",
       "p_0              67100.000\n",
       "annual_growth        1.023\n",
       "dtype: float64"
      ]
     },
     "execution_count": 16,
     "metadata": {},
     "output_type": "execute_result"
    }
   ],
   "source": [
    "sealion = data.StellarSeaLion    #Get the population data and put it in a variable\n",
    "\n",
    "t_0 = get_first_label(sealion) #Create variable for the first year of data\n",
    "t_end = get_last_label(sealion) #Create variable for the final year of data\n",
    "\n",
    "p_0 = get_first_value(sealion) #Create variable for the first entry of data\n",
    "p_end = get_last_value(sealion) #Create variable for the final entry of data\n",
    "\n",
    "annual_growth = 1.023 #Set annual growth rate to a rate determined by experimentation\n",
    "\n",
    "\n",
    "#Make system object storing needed variables \n",
    "system = System(t_0=t_0, \n",
    "                t_end=t_end,\n",
    "                p_0=p_0,\n",
    "                annual_growth=annual_growth)"
   ]
  },
  {
   "cell_type": "markdown",
   "metadata": {},
   "source": [
    "Below we run the simulation and plot the results superimposed over the NOAA data."
   ]
  },
  {
   "cell_type": "code",
   "execution_count": 17,
   "metadata": {
    "scrolled": true
   },
   "outputs": [
    {
     "data": {
      "text/plain": [
       "[<matplotlib.lines.Line2D at 0x19ce400a6d8>,\n",
       " <matplotlib.lines.Line2D at 0x19ce400a6a0>]"
      ]
     },
     "execution_count": 17,
     "metadata": {},
     "output_type": "execute_result"
    },
    {
     "data": {
      "image/png": "[encoded data removed]",
      "text/plain": [
       "<Figure size 432x288 with 1 Axes>"
      ]
     },
     "metadata": {
      "needs_background": "light"
     },
     "output_type": "display_data"
    }
   ],
   "source": [
    "results = run_simulation(system) #Run the simulation and store it in a TimeSeries\n",
    "\n",
    "plt.plot(data.index,data.StellarSeaLion,results) #Plot the Stellar Sea Lion population data"
   ]
  },
  {
   "cell_type": "markdown",
   "metadata": {},
   "source": [
    "Below we will try and project the year where seal populations recover the 70-80% (here simplified to 75%) lost after the 70s, assuming that the starting population in 1995 is about 25% of the sustainable population and that the trend in the model above depicts the overall trend:"
   ]
  },
  {
   "cell_type": "code",
   "execution_count": 18,
   "metadata": {},
   "outputs": [],
   "source": [
    "#Define a function that takes a system object \"system\"\n",
    "def run_projection(system,projection_end):\n",
    "    results = TimeSeries()    #Create a 'results' variable that is a TimeSeries\n",
    "    results[system.t_0] = system.p_0   #Initialize the TimeSeries at the first value in the data\n",
    "    for t in linrange(system.t_0, projection_end):    #For each year in the data:\n",
    "        results[t+1] = system.annual_growth * results[t]    #Take the next year in the TimeSeries and set it equal to the annual growth * the current population size\n",
    "    return results    #Return the TimeSeries"
   ]
  },
  {
   "cell_type": "code",
   "execution_count": 19,
   "metadata": {},
   "outputs": [
    {
     "name": "stdout",
     "output_type": "stream",
     "text": [
      "2056 268618.6589544108\n"
     ]
    },
    {
     "data": {
      "image/png": "[encoded data removed]",
      "text/plain": [
       "<Figure size 432x288 with 1 Axes>"
      ]
     },
     "metadata": {
      "needs_background": "light"
     },
     "output_type": "display_data"
    }
   ],
   "source": [
    "end_projection=t_end+1 #Start iteration variable after last year of data\n",
    "results2 = run_projection(system,end_projection) #Run projection simulation continuing after last year of data\n",
    "while results2[end_projection] <= data.StellarSeaLion[t_0]*4: #Run projection simulations untill the population has \n",
    "    end_projection+=1                                         #regrown to its pre 1970's population\n",
    "    results2 = run_projection(system,end_projection)\n",
    "\n",
    "#Plot the Stellar Sea Lion population data\n",
    "plt.plot(data.index,data.StellarSeaLion,results2) #Plot data and simulation\n",
    "print(end_projection,results2[end_projection])"
   ]
  },
  {
   "cell_type": "markdown",
   "metadata": {},
   "source": [
    "The figure above displays the projected population based on the data given. If our model is accurate, the Steller Sea Lion population will regrow to what it was before its drop after the 70s in 2056."
   ]
  },
  {
   "cell_type": "markdown",
   "metadata": {},
   "source": [
    "While our model represents the general trend of the data, it does not closely follow the data.\n",
    "\n",
    "Our model was restricted by the fact that the data given was severely limited. \n",
    "\n",
    "Due to the constraints of counting wild sea mammal populations and the late start of data collection, we were limited by error-prone population estimations without any error estimates, and with a small sample of data. \n",
    "\n",
    "Given a larger sample of data we would get a better understanding of the overall trend, as our model did not account for major rises and falls of the population.\n",
    "\n",
    "We also make the assumption that the population in 1995 is 25% of the population from before the decline after the 70s, which may not be the case.\n",
    "\n",
    "We also assumed that the data was growing exponentialy which would result in a unchecked population that would tend towards infinate and never reach a carrying capacity.\n",
    "\n",
    "In the future we would like to include some  the amount of error in the data as well as how that would propogate with our model. Given more data we would work on trying to find a trend that incorpotates a reasonable carrying capacity as well as other factors such as rising sea tempeture that would affect food supply as well as living conditions."
   ]
  },
  {
   "cell_type": "code",
   "execution_count": null,
   "metadata": {},
   "outputs": [],
   "source": []
  }
 ],
 "metadata": {
  "kernelspec": {
   "display_name": "Python 3",
   "language": "python",
   "name": "python3"
  },
  "language_info": {
   "codemirror_mode": {
    "name": "ipython",
    "version": 3
   },
   "file_extension": ".py",
   "mimetype": "text/x-python",
   "name": "python",
   "nbconvert_exporter": "python",
   "pygments_lexer": "ipython3",
   "version": "3.6.6"
  }
 },
 "nbformat": 4,
 "nbformat_minor": 2
}
